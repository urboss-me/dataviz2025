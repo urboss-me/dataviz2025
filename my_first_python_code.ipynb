{
  "nbformat": 4,
  "nbformat_minor": 0,
  "metadata": {
    "colab": {
      "provenance": [],
      "include_colab_link": true
    },
    "kernelspec": {
      "name": "python3",
      "display_name": "Python 3"
    },
    "language_info": {
      "name": "python"
    }
  },
  "cells": [
    {
      "cell_type": "markdown",
      "metadata": {
        "id": "view-in-github",
        "colab_type": "text"
      },
      "source": [
        "<a href=\"https://colab.research.google.com/github/urboss-me/dataviz2025/blob/main/my_first_python_code.ipynb\" target=\"_parent\"><img src=\"https://colab.research.google.com/assets/colab-badge.svg\" alt=\"Open In Colab\"/></a>"
      ]
    },
    {
      "cell_type": "markdown",
      "source": [
        "Here we can write using **Markdown**\n",
        "# intro"
      ],
      "metadata": {
        "id": "pnkQ1adhHOVN"
      }
    },
    {
      "cell_type": "markdown",
      "source": [
        "##name"
      ],
      "metadata": {
        "id": "cRP86HfHIQHK"
      }
    },
    {
      "cell_type": "code",
      "source": [
        "print(\"Wittawat\")"
      ],
      "metadata": {
        "colab": {
          "base_uri": "https://localhost:8080/"
        },
        "id": "v8irpfcgHTAo",
        "outputId": "65c134da-bc42-4041-dc2f-6a8809a2ba81"
      },
      "execution_count": 5,
      "outputs": [
        {
          "output_type": "stream",
          "name": "stdout",
          "text": [
            "Wittawat\n"
          ]
        }
      ]
    },
    {
      "cell_type": "markdown",
      "source": [
        "## surname"
      ],
      "metadata": {
        "id": "hN1Ex7gBIHjp"
      }
    },
    {
      "cell_type": "code",
      "execution_count": 6,
      "metadata": {
        "colab": {
          "base_uri": "https://localhost:8080/"
        },
        "id": "SX_y76xWGIa4",
        "outputId": "d29ef771-4e5a-4b7f-db9a-919188a00a82"
      },
      "outputs": [
        {
          "output_type": "stream",
          "name": "stdout",
          "text": [
            "Supateera\n"
          ]
        }
      ],
      "source": [
        "print('Supateera')"
      ]
    },
    {
      "cell_type": "code",
      "source": [],
      "metadata": {
        "id": "KZqV35HYI7CB"
      },
      "execution_count": null,
      "outputs": []
    }
  ]
}