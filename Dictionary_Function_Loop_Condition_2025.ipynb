{
  "nbformat": 4,
  "nbformat_minor": 0,
  "metadata": {
    "kernelspec": {
      "display_name": "Python 3",
      "language": "python",
      "name": "python3"
    },
    "language_info": {
      "codemirror_mode": {
        "name": "ipython",
        "version": 3
      },
      "file_extension": ".py",
      "mimetype": "text/x-python",
      "name": "python",
      "nbconvert_exporter": "python",
      "pygments_lexer": "ipython3",
      "version": "3.7.4"
    },
    "colab": {
      "provenance": [],
      "toc_visible": true,
      "include_colab_link": true
    }
  },
  "cells": [
    {
      "cell_type": "markdown",
      "metadata": {
        "id": "view-in-github",
        "colab_type": "text"
      },
      "source": [
        "<a href=\"https://colab.research.google.com/github/urboss-me/dataviz2025/blob/main/Dictionary_Function_Loop_Condition_2025.ipynb\" target=\"_parent\"><img src=\"https://colab.research.google.com/assets/colab-badge.svg\" alt=\"Open In Colab\"/></a>"
      ]
    },
    {
      "cell_type": "markdown",
      "source": [
        "HW1 note"
      ],
      "metadata": {
        "id": "2wnVRxt7Qw8x"
      }
    },
    {
      "cell_type": "code",
      "source": [
        "inp = '12:30:15-13:41:07'\n",
        "inp_list = inp.split('-')\n",
        "inp_list"
      ],
      "metadata": {
        "colab": {
          "base_uri": "https://localhost:8080/"
        },
        "id": "7b9PZ1gTQ0EA",
        "outputId": "b9f21012-312d-450a-dec1-1ecc4893a91c"
      },
      "execution_count": null,
      "outputs": [
        {
          "output_type": "execute_result",
          "data": {
            "text/plain": [
              "['12:30:15', '13:41:07']"
            ]
          },
          "metadata": {},
          "execution_count": 1
        }
      ]
    },
    {
      "cell_type": "markdown",
      "metadata": {
        "id": "-57L9aVubPqU"
      },
      "source": [
        "# Function"
      ]
    },
    {
      "cell_type": "markdown",
      "metadata": {
        "id": "1DNzYhO4bPqb"
      },
      "source": [
        "## Function template\n",
        "#### ทำหน้าที่รับ input มาประมวณผลออกมาเป็น output\n",
        "#### f(x) = y"
      ]
    },
    {
      "cell_type": "markdown",
      "metadata": {
        "id": "3Nv1ZDEKbPqc"
      },
      "source": [
        "### def คือการกำหนดฟังก์ชัน"
      ]
    },
    {
      "cell_type": "markdown",
      "metadata": {
        "id": "DbHDoWEabPqc"
      },
      "source": [
        "```python\n",
        "    def function_name(_Input_) :\n",
        "        do_something with _Input_ to get _Output_\n",
        "        return _Output_\n",
        "```"
      ]
    },
    {
      "cell_type": "markdown",
      "metadata": {
        "id": "1fuimreqpVhU"
      },
      "source": [
        "เราใช้ เว้นวรรค (indent) เพื่อบอกขอบเขตของโปรแกรม"
      ]
    },
    {
      "cell_type": "markdown",
      "metadata": {
        "id": "kh2M1smCl5Iv"
      },
      "source": [
        "function มีส่วนสำคัญทั้งหมด 4 ส่วน\n",
        "\n",
        "1.   บอก python ว่าเราจะเขียนฟังก์ชั่น ชื่ออะไร  ```def function_name():``` (ขาดไม่ได้)\n",
        "2.   กำหนดตัวแปรที่จะเป็น input  ```_Input_``` (ขาดได้)\n",
        "3.   ส่วนประมวลผล ```do_something with _Input_ to get _Output_``` (ขาดไม่ได้)\n",
        "4.   ส่วน output ```return _Output_```(ขาดได้)\n",
        "\n"
      ]
    },
    {
      "cell_type": "markdown",
      "metadata": {
        "id": "lqWzVN5AbPqc"
      },
      "source": [
        "#### ตัวอย่างการเขียน normal function\n"
      ]
    },
    {
      "cell_type": "code",
      "source": [
        "def print_myname():   # ตัวอย่าง function ที่ไม่มีทั้ง input และ output\n",
        "    print('Thanapong')"
      ],
      "metadata": {
        "id": "6wzfVo_pTefO"
      },
      "execution_count": null,
      "outputs": []
    },
    {
      "cell_type": "code",
      "source": [
        "print_myname()"
      ],
      "metadata": {
        "colab": {
          "base_uri": "https://localhost:8080/"
        },
        "id": "482E9UnsUMkC",
        "outputId": "f5af0efc-8c1c-4e0f-f6f8-21394a7aacdf"
      },
      "execution_count": null,
      "outputs": [
        {
          "output_type": "stream",
          "name": "stdout",
          "text": [
            "Thanapong\n"
          ]
        }
      ]
    },
    {
      "cell_type": "code",
      "metadata": {
        "id": "n706WULobPqc"
      },
      "source": [
        "def print_name(surname,ID,name):        # ตัวอย่าง function ที่ มี input หลายตัว กับ output 1 ตัว\n",
        "    st = f'ชื่อ {name} นามสกุล {surname} รหัส {ID}'\n",
        "    return st"
      ],
      "execution_count": null,
      "outputs": []
    },
    {
      "cell_type": "code",
      "metadata": {
        "colab": {
          "base_uri": "https://localhost:8080/",
          "height": 56
        },
        "id": "muh0pi_Gkym8",
        "outputId": "38d26c05-3d4e-48c9-e2b8-0e7f98945dcc"
      },
      "source": [
        "print_name('อินทระ','64xxxxxx','ธนพงศ์')"
      ],
      "execution_count": null,
      "outputs": [
        {
          "output_type": "execute_result",
          "data": {
            "text/plain": [
              "'ชื่อ ธนพงศ์ นามสกุล อินทระ รหัส 64xxxxxx'"
            ],
            "application/vnd.google.colaboratory.intrinsic+json": {
              "type": "string"
            }
          },
          "metadata": {},
          "execution_count": 5
        }
      ]
    },
    {
      "cell_type": "code",
      "source": [
        "print_name(name='กาญจนา',surname='ประสาคุณ',ID='603021855-2')"
      ],
      "metadata": {
        "colab": {
          "base_uri": "https://localhost:8080/",
          "height": 56
        },
        "id": "vxooaHuHVTDJ",
        "outputId": "25d27066-d51d-471b-f2df-e71d92bc0faf"
      },
      "execution_count": null,
      "outputs": [
        {
          "output_type": "execute_result",
          "data": {
            "text/plain": [
              "'ชื่อ กาญจนา นามสกุล ประสาคุณ รหัส 603021855-2'"
            ],
            "application/vnd.google.colaboratory.intrinsic+json": {
              "type": "string"
            }
          },
          "metadata": {},
          "execution_count": 6
        }
      ]
    },
    {
      "cell_type": "markdown",
      "metadata": {
        "id": "tSV-FUQBpx0i"
      },
      "source": [
        "ฟังก์ชั่นไม่จำเป็นต้องมี output"
      ]
    },
    {
      "cell_type": "code",
      "metadata": {
        "id": "loNAFSvLo5dC"
      },
      "source": [
        "def print_name2(surname,ID,name):\n",
        "    st = f'ชื่อ {name} นามสกุล {surname} รหัส {ID}'\n",
        "    print(st)"
      ],
      "execution_count": null,
      "outputs": []
    },
    {
      "cell_type": "code",
      "metadata": {
        "colab": {
          "base_uri": "https://localhost:8080/"
        },
        "id": "JE88oCj8o_j_",
        "outputId": "01c90a14-94e8-4f2a-d9f8-475d162235a0"
      },
      "source": [
        "print_name2(name='กาญจนา',surname='ประสาคุณ',ID='603021855-2')"
      ],
      "execution_count": null,
      "outputs": [
        {
          "output_type": "stream",
          "name": "stdout",
          "text": [
            "ชื่อ กาญจนา นามสกุล ประสาคุณ รหัส 603021855-2\n"
          ]
        }
      ]
    },
    {
      "cell_type": "markdown",
      "source": [
        "### ข้อแตกต่างระหว่าง function ที่มีและไม่มี output"
      ],
      "metadata": {
        "id": "dW328wxLWauv"
      }
    },
    {
      "cell_type": "code",
      "source": [
        "out_printname1 = print_name(name='กาญจนา',surname='ประสาคุณ',ID='603021855-2') # มี output\n",
        "print(out_printname1)"
      ],
      "metadata": {
        "colab": {
          "base_uri": "https://localhost:8080/"
        },
        "id": "Ae6C6-DTWFOD",
        "outputId": "ec7dc65e-2f40-4980-cede-49a0a8f0cf4f"
      },
      "execution_count": null,
      "outputs": [
        {
          "output_type": "stream",
          "name": "stdout",
          "text": [
            "ชื่อ กาญจนา นามสกุล ประสาคุณ รหัส 603021855-2\n"
          ]
        }
      ]
    },
    {
      "cell_type": "code",
      "source": [
        "out_printname1"
      ],
      "metadata": {
        "colab": {
          "base_uri": "https://localhost:8080/",
          "height": 56
        },
        "id": "yPtH94N0WtsE",
        "outputId": "51dfe456-120d-4a07-9c69-50f0d8dc2285"
      },
      "execution_count": null,
      "outputs": [
        {
          "output_type": "execute_result",
          "data": {
            "text/plain": [
              "'ชื่อ กาญจนา นามสกุล ประสาคุณ รหัส 603021855-2'"
            ],
            "application/vnd.google.colaboratory.intrinsic+json": {
              "type": "string"
            }
          },
          "metadata": {},
          "execution_count": 11
        }
      ]
    },
    {
      "cell_type": "code",
      "source": [
        "out_printname2 = print_name2(name='กาญจนา',surname='ประสาคุณ',ID='603021855-2')  # ไม่มี output\n",
        "print(out_printname2)"
      ],
      "metadata": {
        "colab": {
          "base_uri": "https://localhost:8080/"
        },
        "id": "AbT5pKVYWRBn",
        "outputId": "70cd4fcf-7509-4173-d281-2b4c4c8cce20"
      },
      "execution_count": null,
      "outputs": [
        {
          "output_type": "stream",
          "name": "stdout",
          "text": [
            "ชื่อ กาญจนา นามสกุล ประสาคุณ รหัส 603021855-2\n",
            "None\n"
          ]
        }
      ]
    },
    {
      "cell_type": "code",
      "source": [
        "out_printname2"
      ],
      "metadata": {
        "id": "l_fW68dyXDw3"
      },
      "execution_count": null,
      "outputs": []
    },
    {
      "cell_type": "markdown",
      "metadata": {
        "id": "JF4RdyEBqPyl"
      },
      "source": [
        "ฟังก์ชั่นไม่จำเป็นต้องมี input"
      ]
    },
    {
      "cell_type": "code",
      "metadata": {
        "id": "LNb_o_ZXo_gh"
      },
      "source": [
        "def Pi():\n",
        "    return 3.14159265359"
      ],
      "execution_count": null,
      "outputs": []
    },
    {
      "cell_type": "code",
      "metadata": {
        "colab": {
          "base_uri": "https://localhost:8080/"
        },
        "id": "htN6zLbFo_dr",
        "outputId": "4e015946-8d9d-4f9b-8b59-dc5ff0c325f8"
      },
      "source": [
        "Pi()*(2**2) # หาพื้นที่ของวงกลมที่มีรัศมีเท่ากับ Pi * r^2"
      ],
      "execution_count": null,
      "outputs": [
        {
          "output_type": "execute_result",
          "data": {
            "text/plain": [
              "12.56637061436"
            ]
          },
          "metadata": {
            "tags": []
          },
          "execution_count": 16
        }
      ]
    },
    {
      "cell_type": "markdown",
      "metadata": {
        "id": "ywc0Ho-_rUTu"
      },
      "source": [
        "## เราสามารถกำหนดค่า default ให้กับ input ของฟังก์ชั่นได้"
      ]
    },
    {
      "cell_type": "markdown",
      "metadata": {
        "id": "y_74dHkjxS7f"
      },
      "source": [
        "input ของ function ใน python มีสองแบบ input ที่จำเป็นต้องใส่ กับ input ที่ไม่จำเป็นต้องใส่ (มีค่า default)\n",
        "\n",
        "เราต้องเรียง input ที่จำเป็นต้องใส่ขึ้นก่อน"
      ]
    },
    {
      "cell_type": "code",
      "metadata": {
        "id": "0Lrh-6mAo_bA"
      },
      "source": [
        "def print_2lines_default(name,surname,ID,grade='F'):\n",
        "    st = f'ชื่อ {name} นามสกุล {surname} รหัส {ID}'\n",
        "    print (st)\n",
        "    st2=f'เกรดวิชา Data Viz >>> {grade}'\n",
        "    print(st2)"
      ],
      "execution_count": null,
      "outputs": []
    },
    {
      "cell_type": "code",
      "metadata": {
        "colab": {
          "base_uri": "https://localhost:8080/"
        },
        "id": "ZH31VIjko_WP",
        "outputId": "d8e92d52-2f96-4541-a0d7-00379f1cb015"
      },
      "source": [
        "print_2lines_default('ธันยาการต์','พวงมาลัย','613020551-8')"
      ],
      "execution_count": null,
      "outputs": [
        {
          "output_type": "stream",
          "name": "stdout",
          "text": [
            "ชื่อ ธันยาการต์ นามสกุล พวงมาลัย รหัส 613020551-8\n",
            "เกรดวิชา Data Viz >>> F\n"
          ]
        }
      ]
    },
    {
      "cell_type": "code",
      "metadata": {
        "colab": {
          "base_uri": "https://localhost:8080/"
        },
        "id": "FKGr2Iyuo_S2",
        "outputId": "54f0446e-0a63-403f-9490-4046a9cc4692"
      },
      "source": [
        "print_2lines_default('ธันยาการต์','พวงมาลัย','613020551-8','A')"
      ],
      "execution_count": null,
      "outputs": [
        {
          "output_type": "stream",
          "name": "stdout",
          "text": [
            "ชื่อ ธันยาการต์ นามสกุล พวงมาลัย รหัส 613020551-8\n",
            "เกรดวิชา Data Viz >>> A\n"
          ]
        }
      ]
    },
    {
      "cell_type": "code",
      "source": [
        "print_2lines_default('ธันยาการต์','พวงมาลัย','613020551-8',grade = 'A')"
      ],
      "metadata": {
        "colab": {
          "base_uri": "https://localhost:8080/"
        },
        "id": "Au_P2Cm8ZDXL",
        "outputId": "985b23d4-40d0-4fb4-aee3-12a8e07353ac"
      },
      "execution_count": null,
      "outputs": [
        {
          "output_type": "stream",
          "name": "stdout",
          "text": [
            "ชื่อ ธันยาการต์ นามสกุล พวงมาลัย รหัส 613020551-8\n",
            "เกรดวิชา Data Viz >>> A\n"
          ]
        }
      ]
    },
    {
      "cell_type": "code",
      "source": [
        "print_2lines_default('ธันยาการต์','พวงมาลัย')"
      ],
      "metadata": {
        "colab": {
          "base_uri": "https://localhost:8080/",
          "height": 158
        },
        "id": "cLGa_pO1Zv1U",
        "outputId": "656806dd-b1d3-41c7-b6cf-a549a55223ab"
      },
      "execution_count": null,
      "outputs": [
        {
          "output_type": "error",
          "ename": "TypeError",
          "evalue": "print_2lines_default() missing 1 required positional argument: 'ID'",
          "traceback": [
            "\u001b[0;31m---------------------------------------------------------------------------\u001b[0m",
            "\u001b[0;31mTypeError\u001b[0m                                 Traceback (most recent call last)",
            "\u001b[0;32m<ipython-input-17-800069358ecd>\u001b[0m in \u001b[0;36m<cell line: 1>\u001b[0;34m()\u001b[0m\n\u001b[0;32m----> 1\u001b[0;31m \u001b[0mprint_2lines_default\u001b[0m\u001b[0;34m(\u001b[0m\u001b[0;34m'ธันยาการต์'\u001b[0m\u001b[0;34m,\u001b[0m\u001b[0;34m'พวงมาลัย'\u001b[0m\u001b[0;34m)\u001b[0m\u001b[0;34m\u001b[0m\u001b[0;34m\u001b[0m\u001b[0m\n\u001b[0m",
            "\u001b[0;31mTypeError\u001b[0m: print_2lines_default() missing 1 required positional argument: 'ID'"
          ]
        }
      ]
    },
    {
      "cell_type": "markdown",
      "source": [
        "# Quiz 5"
      ],
      "metadata": {
        "id": "8keIoXqgbjAM"
      }
    },
    {
      "cell_type": "markdown",
      "source": [
        "จงเขียนฟังก์ชันของ HW2"
      ],
      "metadata": {
        "id": "vzgODxRnby7K"
      }
    },
    {
      "cell_type": "code",
      "source": [
        "#  function ของ # เวลาของวันพุธ 12:30:15\n",
        "# time_wed = \"12:30:15\"\n",
        "# # เวลาของวันพฤหัสบดี 13:41:07\n",
        "# time_thu = \"13:41:07\"\n",
        "# # แยกชั่วโมง นาที วินาที ด้วย split()\n",
        "# h1, m1, s1 = map(int, time_wed.split(':'))\n",
        "# h2, m2, s2 = map(int, time_thu.split(':'))\n",
        "# # คำนวณเป็นวินาทีจากต้นสัปดาห์ (วันพุธ = วันที่ 3, วันพฤหัสบดี = วันที่ 4)\n",
        "# # วันละ 86400 วินาที\n",
        "# seconds_wed = (2 * 86400) + h1 * 3600 + m1 * 60 + s1\n",
        "# seconds_thu = (3 * 86400) + h2 * 3600 + m2 * 60 + s2\n",
        "# # หาผลต่าง\n",
        "# diff_seconds = seconds_thu - seconds_wed\n",
        "# # แสดงผลลัพธ์\n",
        "# print(f\"เวลาต่างกันทั้งหมด {diff_seconds:,} วินาที\")\n",
        "\n",
        "def calculate_time_difference(time_str):\n",
        "    \"\"\"\n",
        "    Calculates the time difference in seconds between two time strings in 'HH:MM:SS-HH:MM:SS' format,\n",
        "    assuming the first time is on Wednesday and the second on Thursday.\n",
        "\n",
        "    Args:\n",
        "        time_str (str): A string representing two times separated by '-', e.g., '12:30:15-13:41:07'.\n",
        "\n",
        "    Returns:\n",
        "        int: The time difference in seconds.\n",
        "    \"\"\"\n",
        "    time1_str, time2_str = time_str.split('-')\n",
        "\n",
        "    # Parse the time strings\n",
        "    h1, m1, s1 = map(int, time1_str.split(':'))\n",
        "    h2, m2, s2 = map(int, time2_str.split(':'))\n",
        "\n",
        "    # Calculate seconds from the beginning of the week (Wednesday = day 3, Thursday = day 4)\n",
        "    # Days are 0-indexed, assuming Monday is day 0 for calculation simplicity if needed,\n",
        "    # but here we just need the difference of days. Wednesday is effectively 2 full days after the start of a hypothetical week reference\n",
        "    # and Thursday is 3 full days after that same reference point.\n",
        "    seconds1 = (2 * 86400) + h1 * 3600 + m1 * 60 + s1\n",
        "    seconds2 = (3 * 86400) + h2 * 3600 + m2 * 60 + s2\n",
        "\n",
        "    # Calculate the difference\n",
        "    diff_seconds = seconds2 - seconds1\n",
        "\n",
        "    return diff_seconds\n",
        "\n",
        "# Example usage with the given input\n",
        "inp = '12:30:15-13:41:07'\n",
        "time_diff = calculate_time_difference(inp)\n",
        "print(f\"เวลาต่างกันทั้งหมด {time_diff:,} วินาที\")\n",
        "\n",
        "# Another example\n",
        "inp2 = '08:00:00-09:00:00' # From 8 AM Wednesday to 9 AM Thursday\n",
        "time_diff2 = calculate_time_difference(inp2)\n",
        "print(f\"เวลาต่างกันทั้งหมด {time_diff2:,} วินาที\")\n",
        "\n"
      ],
      "metadata": {
        "colab": {
          "base_uri": "https://localhost:8080/"
        },
        "id": "avxth58ab6Ct",
        "outputId": "743bee34-a835-4089-a2eb-a74598b871af"
      },
      "execution_count": 18,
      "outputs": [
        {
          "output_type": "stream",
          "name": "stdout",
          "text": [
            "เวลาต่างกันทั้งหมด 90,652 วินาที\n",
            "เวลาต่างกันทั้งหมด 90,000 วินาที\n"
          ]
        }
      ]
    },
    {
      "cell_type": "code",
      "source": [
        "# prompt: จงเขียน function ของ # ฟังก์ชันแปลงเวลาเป็นวินาทีจากต้นสัปดาห์\n",
        "# def time_to_seconds(time_str, day_str):\n",
        "#     days = ['Monday', 'Tuesday', 'Wednesday', 'Thursday', 'Friday', 'Saturday', 'Sunday']\n",
        "#     h, m, s = map(int, time_str.split(':'))\n",
        "#     day_index = days.index(day_str)\n",
        "#     total_seconds = day_index * 86400 + h * 3600 + m * 60 + s\n",
        "#     return total_seconds\n",
        "# # รายการช่วงเวลา\n",
        "# time_ranges = [\n",
        "#     (\"12:30:15\", \"Wednesday\", \"13:41:07\", \"Thursday\"),\n",
        "#     (\"12:53:15\", \"Monday\", \"00:59:25\", \"Tuesday\"),\n",
        "#     (\"16:06:09\", \"Sunday\", \"11:11:11\", \"Tuesday\"),\n",
        "# ]\n",
        "# # ประมวลผลและแสดงผล\n",
        "# for start_time, start_day, end_time, end_day in time_ranges:\n",
        "#     start_sec = time_to_seconds(start_time, start_day)\n",
        "#     end_sec = time_to_seconds(end_time, end_day)\n",
        "#     diff = end_sec - start_sec\n",
        "#     hours = diff // 3600\n",
        "#     minutes = (diff % 3600) // 60\n",
        "#     seconds = diff % 60\n",
        "#     print(f\"\\n🕒 {start_time}, {start_day} - {end_time}, {end_day}\")\n",
        "#     print(f\"→ ต่างกันทั้งหมด {diff:,} วินาที\")\n",
        "#     print(f\"→ หรือ {hours} ชั่วโมง {minutes} นาที {seconds} วินาที\")\n",
        "\n",
        "# ฟังก์ชันแปลงเวลาเป็นวินาทีจากต้นสัปดาห์\n",
        "def time_to_seconds(time_str, day_str):\n",
        "    days = ['Monday', 'Tuesday', 'Wednesday', 'Thursday', 'Friday', 'Saturday', 'Sunday']\n",
        "    h, m, s = map(int, time_str.split(':'))\n",
        "    day_index = days.index(day_str)\n",
        "    total_seconds = day_index * 86400 + h * 3600 + m * 60 + s\n",
        "    return total_seconds\n",
        "\n",
        "# รายการช่วงเวลา\n",
        "time_ranges = [\n",
        "    (\"12:30:15\", \"Wednesday\", \"13:41:07\", \"Thursday\"),\n",
        "    (\"12:53:15\", \"Monday\", \"00:59:25\", \"Tuesday\"),\n",
        "    (\"16:06:09\", \"Sunday\", \"11:11:11\", \"Tuesday\"),\n",
        "]\n",
        "\n",
        "# ประมวลผลและแสดงผล\n",
        "print(\"--- การคำนวณช่วงเวลา ---\")\n",
        "for i, (start_time, start_day, end_time, end_day) in enumerate(time_ranges):\n",
        "    start_sec = time_to_seconds(start_time, start_day)\n",
        "    end_sec = time_to_seconds(end_time, end_day)\n",
        "    diff = end_sec - start_sec\n",
        "\n",
        "    # แปลงวินาทีเป็น ชั่วโมง นาที วินาที\n",
        "    hours = diff // 3600\n",
        "    remaining_seconds = diff % 3600\n",
        "    minutes = remaining_seconds // 60\n",
        "    seconds = remaining_seconds % 60\n",
        "\n",
        "    print(f\"\\n✨ คู่ที่ {i+1}:\")\n",
        "    print(f\"➡️ จาก {start_time} ({start_day}) ถึง {end_time} ({end_day})\")\n",
        "    print(f\"    ➡️ เวลาต่างกันทั้งหมด {diff:,} วินาที\")\n",
        "    print(f\"    ➡️ หรือ {hours} ชั่วโมง {minutes} นาที {seconds} วินาที\")\n",
        "\n",
        "print(\"\\n--- สิ้นสุดการคำนวณ ---\")\n"
      ],
      "metadata": {
        "id": "Qzm2ctrRcqeP"
      },
      "execution_count": 16,
      "outputs": []
    },
    {
      "cell_type": "code",
      "source": [
        "#function ของ def time_to_seconds(time_str):\n",
        "#     \"\"\"Converts a time string (HH:MM:SS) to seconds.\"\"\"\n",
        "#     h, m, s = map(int, time_str.split(':'))\n",
        "#     return h * 3600 + m * 60 + s\n",
        "# # Test the function\n",
        "# print(time_to_seconds('12:30:15'))\n",
        "# print(time_to_seconds('00:00:00'))\n",
        "# print(time_to_seconds('23:59:59'))\n",
        "\n",
        "def time_to_seconds(time_str):\n",
        "    \"\"\"Converts a time string (HH:MM:SS) to seconds.\"\"\"\n",
        "    h, m, s = map(int, time_str.split(':'))\n",
        "    return h * 3600 + m * 60 + s\n",
        "# Test the function\n",
        "print(time_to_seconds('12:30:15'))\n",
        "print(time_to_seconds('00:00:00'))\n",
        "print(time_to_seconds('23:59:59'))"
      ],
      "metadata": {
        "colab": {
          "base_uri": "https://localhost:8080/"
        },
        "id": "wME_pzENdGq8",
        "outputId": "cf633a9e-55b6-4ece-9bcd-a4dd0e9989b6"
      },
      "execution_count": 15,
      "outputs": [
        {
          "output_type": "stream",
          "name": "stdout",
          "text": [
            "45015\n",
            "0\n",
            "86399\n"
          ]
        }
      ]
    },
    {
      "cell_type": "markdown",
      "source": [
        "# Quiz 6"
      ],
      "metadata": {
        "id": "Xz7CohFOfyBn"
      }
    },
    {
      "cell_type": "markdown",
      "source": [
        "เขียน function ของ HW2 มีการใช้ค่า default ของ input โดยถ้าวันที่กรอกเป็นวันเดียวกันให้ไม่ต้องกรอกเลยหรือกรอกแค่ตัวเดียว"
      ],
      "metadata": {
        "id": "4O3b-VaWgGlF"
      }
    },
    {
      "cell_type": "code",
      "source": [
        "# prompt: เขียน function ของ # เวลาของวันพุธ 12:30:15\n",
        "# time_wed = \"12:30:15\"\n",
        "# # เวลาของวันพฤหัสบดี 13:41:07\n",
        "# time_thu = \"13:41:07\"\n",
        "# # แยกชั่วโมง นาที วินาที ด้วย split()\n",
        "# h1, m1, s1 = map(int, time_wed.split(':'))\n",
        "# h2, m2, s2 = map(int, time_thu.split(':'))\n",
        "# # คำนวณเป็นวินาทีจากต้นสัปดาห์ (วันพุธ = วันที่ 3, วันพฤหัสบดี = วันที่ 4)\n",
        "# # วันละ 86400 วินาที\n",
        "# seconds_wed = (2 * 86400) + h1 * 3600 + m1 * 60 + s1\n",
        "# seconds_thu = (3 * 86400) + h2 * 3600 + m2 * 60 + s2\n",
        "# # หาผลต่าง\n",
        "# diff_seconds = seconds_thu - seconds_wed\n",
        "# # แสดงผลลัพธ์\n",
        "# print(f\"เวลาต่างกันทั้งหมด {diff_seconds:,} วินาที\")\n",
        "# มีการใช้ค่า default ของ input โดยถ้าวันที่กรอกเป็นวันเดียวกันให้ไม่ต้องกรอกเลยหรือกรอกแค่ตัวเดียว\n",
        "\n",
        "def calculate_time_diff_with_default(time_input):\n",
        "    \"\"\"\n",
        "    Calculates the time difference in seconds between two time strings,\n",
        "    allowing for a default day if only one time is provided.\n",
        "\n",
        "    Args:\n",
        "        time_input (str): A string in the format 'HH:MM:SS-HH:MM:SS' or 'HH:MM:SS'.\n",
        "                          If only 'HH:MM:SS' is provided, the start and end times are\n",
        "                          assumed to be on the same day.\n",
        "\n",
        "    Returns:\n",
        "        int: The time difference in seconds. Returns 0 if the input format is incorrect\n",
        "             or only one time is provided (as per the problem description's interpretation\n",
        "             of \"same day\").\n",
        "    \"\"\"\n",
        "    times = time_input.split('-')\n",
        "\n",
        "    if len(times) == 1:\n",
        "        # If only one time is provided, it means the start and end times are the same.\n",
        "        # The difference is 0 seconds.\n",
        "        return 0\n",
        "    elif len(times) == 2:\n",
        "        time1_str = times[0]\n",
        "        time2_str = times[1]\n",
        "\n",
        "        # Separate time components\n",
        "        h1, m1, s1 = map(int, time1_str.split(':'))\n",
        "        h2, m2, s2 = map(int, time2_str.split(':'))\n",
        "\n",
        "        # Calculate seconds from the start of a reference point (e.g., midnight)\n",
        "        seconds1 = h1 * 3600 + m1 * 60 + s1\n",
        "        seconds2 = h2 * 3600 + m2 * 60 + s2\n",
        "\n",
        "        # Assume the first time is on 'Day X' and the second time is on 'Day X+1'\n",
        "        # as per the previous problem context (Wednesday to Thursday).\n",
        "        # If the days were the same, the split would only have one element.\n",
        "        # Here we interpret two elements as being on consecutive days.\n",
        "        # Add a full day's seconds to the second time's seconds\n",
        "        seconds2_adjusted = seconds2 + 86400\n",
        "\n",
        "        diff_seconds = seconds2_adjusted - seconds1\n",
        "        return diff_seconds\n",
        "    else:\n",
        "        print(\"Invalid input format. Use 'HH:MM:SS' or 'HH:MM:SS-HH:MM:SS'.\")\n",
        "        return 0\n",
        "\n",
        "# Example usage:\n",
        "# Case 1: Same day (only one time provided)\n",
        "inp_same_day = '12:30:15'\n",
        "diff_same_day = calculate_time_diff_with_default(inp_same_day)\n",
        "print(f\"Input: '{inp_same_day}' -> เวลาต่างกันทั้งหมด {diff_same_day:,} วินาที\")\n",
        "\n",
        "# Case 2: Different days (two times provided) - assumes consecutive days\n",
        "inp_diff_days = '12:30:15-13:41:07'\n",
        "diff_diff_days = calculate_time_diff_with_default(inp_diff_days)\n",
        "print(f\"Input: '{inp_diff_days}' -> เวลาต่างกันทั้งหมด {diff_diff_days:,} วินาที\")\n",
        "\n",
        "# Another different day example\n",
        "inp_diff_days_2 = '23:00:00-01:00:00' # 11 PM to 1 AM the next day\n",
        "diff_diff_days_2 = calculate_time_diff_with_default(inp_diff_days_2)\n",
        "print(f\"Input: '{inp_diff_days_2}' -> เวลาต่างกันทั้งหมด {diff_diff_days_2:,} วินาที\")\n",
        "\n",
        "# Example with the original problem values\n",
        "inp_original = '12:30:15-13:41:07'\n",
        "# The previous context specified Wednesday and Thursday, which are consecutive days.\n",
        "# The function above assumes consecutive days for the 'HH:MM:SS-HH:MM:SS' format.\n",
        "# The Wednesday (Day 3) to Thursday (Day 4) difference is equivalent to adding\n",
        "# one full day (86400 seconds) to the second time's seconds relative to the first time.\n",
        "h1, m1, s1 = map(int, '12:30:15'.split(':'))\n",
        "h2, m2, s2 = map(int, '13:41:07'.split(':'))\n",
        "\n",
        "seconds1_abs = (2 * 86400) + h1 * 3600 + m1 * 60 + s1 # Wednesday\n",
        "seconds2_abs = (3 * 86400) + h2 * 3600 + m2 * 60 + s2 # Thursday\n",
        "\n",
        "diff_original_context = seconds2_abs - seconds1_abs\n",
        "print(f\"Original context (Wednesday to Thursday): เวลาต่างกันทั้งหมด {diff_original_context:,} วินาที\")\n",
        "\n",
        "# Note: The function `calculate_time_diff_with_default` with input '12:30:15-13:41:07'\n",
        "# will return the time difference between 12:30:15 on Day X and 13:41:07 on Day X+1,\n",
        "# which matches the Wednesday to Thursday difference (Day 3 to Day 4 relative difference).\n"
      ],
      "metadata": {
        "id": "PGiULk3MguID",
        "outputId": "97658cd7-7bbc-4ca6-9712-c17a2d0fc895",
        "colab": {
          "base_uri": "https://localhost:8080/"
        }
      },
      "execution_count": 19,
      "outputs": [
        {
          "output_type": "stream",
          "name": "stdout",
          "text": [
            "Input: '12:30:15' -> เวลาต่างกันทั้งหมด 0 วินาที\n",
            "Input: '12:30:15-13:41:07' -> เวลาต่างกันทั้งหมด 90,652 วินาที\n",
            "Input: '23:00:00-01:00:00' -> เวลาต่างกันทั้งหมด 7,200 วินาที\n",
            "Original context (Wednesday to Thursday): เวลาต่างกันทั้งหมด 90,652 วินาที\n"
          ]
        }
      ]
    },
    {
      "cell_type": "code",
      "source": [
        "# prompt: # ฟังก์ชันแปลงเวลาเป็นวินาทีจากต้นสัปดาห์\n",
        "# def time_to_seconds(time_str, day_str):\n",
        "#     days = ['Monday', 'Tuesday', 'Wednesday', 'Thursday', 'Friday', 'Saturday', 'Sunday']\n",
        "#     h, m, s = map(int, time_str.split(':'))\n",
        "#     day_index = days.index(day_str)\n",
        "#     total_seconds = day_index * 86400 + h * 3600 + m * 60 + s\n",
        "#     return total_seconds\n",
        "# # รายการช่วงเวลา\n",
        "# time_ranges = [\n",
        "#     (\"12:30:15\", \"Wednesday\", \"13:41:07\", \"Thursday\"),\n",
        "#     (\"12:53:15\", \"Monday\", \"00:59:25\", \"Tuesday\"),\n",
        "#     (\"16:06:09\", \"Sunday\", \"11:11:11\", \"Tuesday\"),\n",
        "# ]\n",
        "# # ประมวลผลและแสดงผล\n",
        "# for start_time, start_day, end_time, end_day in time_ranges:\n",
        "#     start_sec = time_to_seconds(start_time, start_day)\n",
        "#     end_sec = time_to_seconds(end_time, end_day)\n",
        "#     diff = end_sec - start_sec\n",
        "#     hours = diff // 3600\n",
        "#     minutes = (diff % 3600) // 60\n",
        "#     seconds = diff % 60\n",
        "#     print(f\"\\n🕒 {start_time}, {start_day} - {end_time}, {end_day}\")\n",
        "#     print(f\"→ ต่างกันทั้งหมด {diff:,} วินาที\")\n",
        "#     print(f\"→ หรือ {hours} ชั่วโมง {minutes} นาที {seconds} วินาที\")\n",
        "# เขียน function โดยมีการใช้ค่า default ของ input โดยถ้าวันที่กรอกเป็นวันเดียวกันให้ไม่ต้องกรอกเลยหรือกรอกแค่ตัวเดียว\n",
        "\n",
        "def calculate_time_difference_v2(time_input, start_day=None, end_day=None):\n",
        "    \"\"\"\n",
        "    Calculates the time difference in seconds between two time strings,\n",
        "    with optional day inputs and default day handling.\n",
        "\n",
        "    Args:\n",
        "        time_input (str): A string representing time(s) in 'HH:MM:SS' or 'HH:MM:SS-HH:MM:SS' format.\n",
        "                          If only 'HH:MM:SS' is provided, the start and end times are assumed\n",
        "                          to be on the same day, and the difference is 0.\n",
        "        start_day (str, optional): The starting day of the week (e.g., 'Monday'). Defaults to None.\n",
        "                                   If provided, overrides default same-day behavior for single time input.\n",
        "        end_day (str, optional): The ending day of the week (e.g., 'Thursday'). Defaults to None.\n",
        "                                 If provided, overrides default same-day behavior for single time input.\n",
        "\n",
        "    Returns:\n",
        "        int: The time difference in seconds. Returns 0 if input format is incorrect.\n",
        "    \"\"\"\n",
        "    days = ['Monday', 'Tuesday', 'Wednesday', 'Thursday', 'Friday', 'Saturday', 'Sunday']\n",
        "    seconds_per_day = 86400\n",
        "\n",
        "    times = time_input.split('-')\n",
        "\n",
        "    if len(times) == 1:\n",
        "        # If only one time is provided, default to same day unless start_day and end_day are different\n",
        "        if start_day is not None and end_day is not None and start_day != end_day:\n",
        "             try:\n",
        "                day1_index = days.index(start_day)\n",
        "                day2_index = days.index(end_day)\n",
        "\n",
        "                time_str = times[0]\n",
        "                h, m, s = map(int, time_str.split(':'))\n",
        "                seconds = h * 3600 + m * 60 + s\n",
        "\n",
        "                start_sec = day1_index * seconds_per_day + seconds\n",
        "                end_sec = day2_index * seconds_per_day + seconds\n",
        "\n",
        "                return end_sec - start_sec\n",
        "             except (ValueError, IndexError):\n",
        "                print(\"Invalid day name provided.\")\n",
        "                return 0\n",
        "        else:\n",
        "            # Default behavior for single time input is same day, difference is 0\n",
        "            return 0\n",
        "\n",
        "    elif len(times) == 2:\n",
        "        time1_str = times[0]\n",
        "        time2_str = times[1]\n",
        "\n",
        "        try:\n",
        "            h1, m1, s1 = map(int, time1_str.split(':'))\n",
        "            h2, m2, s2 = map(int, time2_str.split(':'))\n",
        "\n",
        "            seconds1_of_day = h1 * 3600 + m1 * 60 + s1\n",
        "            seconds2_of_day = h2 * 3600 + m2 * 60 + s2\n",
        "\n",
        "            day1_index = 0 # Default to Day 0 if day is not specified\n",
        "            day2_index = 0 # Default to Day 0 if day is not specified\n",
        "\n",
        "            if start_day is not None:\n",
        "                 day1_index = days.index(start_day)\n",
        "            if end_day is not None:\n",
        "                 day2_index = days.index(end_day)\n",
        "            elif start_day is not None: # If only start_day is provided, assume end_day is the next day if end_time is earlier\n",
        "                 if seconds2_of_day < seconds1_of_day:\n",
        "                     day2_index = day1_index + 1\n",
        "                 else:\n",
        "                     day2_index = day1_index\n",
        "\n",
        "\n",
        "            # If no days are specified for the two times, assume consecutive days\n",
        "            if start_day is None and end_day is None:\n",
        "                 # Assume first time is Day 0, second time is Day 1\n",
        "                 day1_index = 0\n",
        "                 day2_index = 1\n",
        "\n",
        "\n",
        "            start_sec_total = day1_index * seconds_per_day + seconds1_of_day\n",
        "            end_sec_total = day2_index * seconds_per_day + seconds2_of_day\n",
        "\n",
        "            return end_sec_total - start_sec_total\n",
        "\n",
        "        except (ValueError, IndexError):\n",
        "            print(\"Invalid time or day format.\")\n",
        "            return 0\n",
        "    else:\n",
        "        print(\"Invalid input format. Use 'HH:MM:SS' or 'HH:MM:SS-HH:MM:SS'.\")\n",
        "        return 0\n",
        "\n",
        "# Example usage:\n",
        "\n",
        "# Case 1: Single time, no day specified (default same day)\n",
        "inp1 = '12:30:15'\n",
        "diff1 = calculate_time_difference_v2(inp1)\n",
        "print(f\"Input: '{inp1}' -> เวลาต่างกันทั้งหมด {diff1:,} วินาที\")\n",
        "\n",
        "# Case 2: Single time, start and end day specified and different\n",
        "inp2 = '10:00:00'\n",
        "diff2 = calculate_time_difference_v2(inp2, start_day='Monday', end_day='Wednesday')\n",
        "print(f\"Input: '{inp2}' (Mon to Wed) -> เวลาต่างกันทั้งหมด {diff2:,} วินาที\")\n",
        "\n",
        "# Case 3: Single time, start and end day specified and same\n",
        "inp3 = '10:00:00'\n",
        "diff3 = calculate_time_difference_v2(inp3, start_day='Monday', end_day='Monday')\n",
        "print(f\"Input: '{inp3}' (Mon to Mon) -> เวลาต่างกันทั้งหมด {diff3:,} วินาที\")\n",
        "\n",
        "\n",
        "# Case 4: Two times, no day specified (default consecutive days)\n",
        "inp4 = '12:30:15-13:41:07'\n",
        "diff4 = calculate_time_difference_v2(inp4)\n",
        "print(f\"Input: '{inp4}' (Consecutive days) -> เวลาต่างกันทั้งหมด {diff4:,} วินาที\")\n",
        "\n",
        "# Case 5: Two times, start and end day specified\n",
        "inp5 = '12:53:15-00:59:25'\n",
        "diff5 = calculate_time_difference_v2(inp5, start_day='Monday', end_day='Tuesday')\n",
        "print(f\"Input: '{inp5}' (Mon to Tue) -> เวลาต่างกันทั้งหมด {diff5:,} วินาที\")\n",
        "\n",
        "# Case 6: Two times, start and end day specified (Spanning multiple days)\n",
        "inp6 = '16:06:09-11:11:11'\n",
        "diff6 = calculate_time_difference_v2(inp6, start_day='Sunday', end_day='Tuesday')\n",
        "print(f\"Input: '{inp6}' (Sun to Tue) -> เวลาต่างกันทั้งหมด {diff6:,} วินาที\")\n",
        "\n",
        "# Case 7: Two times, only start day specified (assume next day if end time is earlier)\n",
        "inp7 = '23:00:00-01:00:00'\n",
        "diff7 = calculate_time_difference_v2(inp7, start_day='Monday')\n",
        "print(f\"Input: '{inp7}' (Start Mon) -> เวลาต่างกันทั้งหมด {diff7:,} วินาที\")\n",
        "\n",
        "# Case 8: Two times, only start day specified (assume same day if end time is later)\n",
        "inp8 = '10:00:00-11:00:00'\n",
        "diff8 = calculate_time_difference_v2(inp8, start_day='Monday')\n",
        "print(f\"Input: '{inp8}' (Start Mon) -> เวลาต่างกันทั้งหมด {diff8:,} วินาที\")"
      ],
      "metadata": {
        "id": "xFRE-kBphcCH",
        "outputId": "58b8b6e1-d064-4c5f-9288-ea200a0ce3af",
        "colab": {
          "base_uri": "https://localhost:8080/"
        }
      },
      "execution_count": 20,
      "outputs": [
        {
          "output_type": "stream",
          "name": "stdout",
          "text": [
            "Input: '12:30:15' -> เวลาต่างกันทั้งหมด 0 วินาที\n",
            "Input: '10:00:00' (Mon to Wed) -> เวลาต่างกันทั้งหมด 172,800 วินาที\n",
            "Input: '10:00:00' (Mon to Mon) -> เวลาต่างกันทั้งหมด 0 วินาที\n",
            "Input: '12:30:15-13:41:07' (Consecutive days) -> เวลาต่างกันทั้งหมด 90,652 วินาที\n",
            "Input: '12:53:15-00:59:25' (Mon to Tue) -> เวลาต่างกันทั้งหมด 43,570 วินาที\n",
            "Input: '16:06:09-11:11:11' (Sun to Tue) -> เวลาต่างกันทั้งหมด -449,698 วินาที\n",
            "Input: '23:00:00-01:00:00' (Start Mon) -> เวลาต่างกันทั้งหมด 7,200 วินาที\n",
            "Input: '10:00:00-11:00:00' (Start Mon) -> เวลาต่างกันทั้งหมด 3,600 วินาที\n"
          ]
        }
      ]
    },
    {
      "cell_type": "code",
      "source": [
        "# prompt: def time_to_seconds(time_str):\n",
        "#     \"\"\"Converts a time string (HH:MM:SS) to seconds.\"\"\"\n",
        "#     h, m, s = map(int, time_str.split(':'))\n",
        "#     return h * 3600 + m * 60 + s\n",
        "# # Test the function\n",
        "# print(time_to_seconds('12:30:15'))\n",
        "# print(time_to_seconds('00:00:00'))\n",
        "# print(time_to_seconds('23:59:59'))\n",
        "# เขียน function โดยมีการใช้ค่า default ของ input โดยถ้าวันที่กรอกเป็นวันเดียวกันให้ไม่ต้องกรอกเลยหรือกรอกแค่ตัวเดียว\n",
        "\n",
        "def calculate_time_diff_with_default(time_input):\n",
        "    \"\"\"\n",
        "    Calculates the time difference in seconds between two time strings,\n",
        "    allowing for a default day if only one time is provided.\n",
        "\n",
        "    Args:\n",
        "        time_input (str): A string in the format 'HH:MM:SS' or 'HH:MM:SS-HH:MM:SS'.\n",
        "                          If only 'HH:MM:SS' is provided, the start and end times are\n",
        "                          assumed to be on the same day.\n",
        "\n",
        "    Returns:\n",
        "        int: The time difference in seconds. Returns 0 if the input format is incorrect\n",
        "             or only one time is provided (as per the problem description's interpretation\n",
        "             of \"same day\").\n",
        "    \"\"\"\n",
        "    times = time_input.split('-')\n",
        "\n",
        "    if len(times) == 1:\n",
        "        # If only one time is provided, it means the start and end times are the same.\n",
        "        # The difference is 0 seconds.\n",
        "        return 0\n",
        "    elif len(times) == 2:\n",
        "        time1_str = times[0]\n",
        "        time2_str = times[1]\n",
        "\n",
        "        try:\n",
        "            h1, m1, s1 = map(int, time1_str.split(':'))\n",
        "            h2, m2, s2 = map(int, time2_str.split(':'))\n",
        "\n",
        "            seconds1 = h1 * 3600 + m1 * 60 + s1\n",
        "            seconds2 = h2 * 3600 + m2 * 60 + s2\n",
        "\n",
        "            # If the second time is earlier than the first time, assume it's on the next day\n",
        "            # This aligns with the Wednesday to Thursday example (12:30 PM to 1:41 PM the next day)\n",
        "            if seconds2 < seconds1:\n",
        "                 seconds2 += 86400\n",
        "\n",
        "            diff_seconds = seconds2 - seconds1\n",
        "            return diff_seconds\n",
        "        except ValueError:\n",
        "            print(\"Invalid time format (HH:MM:SS).\")\n",
        "            return 0\n",
        "    else:\n",
        "        print(\"Invalid input format. Use 'HH:MM:SS' or 'HH:MM:SS-HH:MM:SS'.\")\n",
        "        return 0\n",
        "\n",
        "# Example usage:\n",
        "# Case 1: Same day (only one time provided)\n",
        "inp_same_day = '12:30:15'\n",
        "diff_same_day = calculate_time_diff_with_default(inp_same_day)\n",
        "print(f\"Input: '{inp_same_day}' -> เวลาต่างกันทั้งหมด {diff_same_day:,} วินาที\")\n",
        "\n",
        "# Case 2: Different days (two times provided) - assumes next day if second time is earlier\n",
        "inp_diff_days = '12:30:15-13:41:07' # 12:30 PM Day X to 1:41 PM Day X\n",
        "diff_diff_days = calculate_time_diff_with_default(inp_diff_days)\n",
        "print(f\"Input: '{inp_diff_days}' -> เวลาต่างกันทั้งหมด {diff_diff_days:,} วินาที\")\n",
        "\n",
        "inp_diff_days_2 = '23:00:00-01:00:00' # 11 PM Day X to 1 AM Day X+1\n",
        "diff_diff_days_2 = calculate_time_diff_with_default(inp_diff_days_2)\n",
        "print(f\"Input: '{inp_diff_days_2}' -> เวลาต่างกันทั้งหมด {diff_diff_days_2:,} วินาที\")\n",
        "\n",
        "# Example with the original problem values (Wednesday 12:30:15 to Thursday 13:41:07)\n",
        "# This case implicitly involves different days. The function handles this by assuming\n",
        "# the second time is on the next day if it's chronologically earlier within a 24-hour cycle.\n",
        "# This aligns with the Wednesday-Thursday scenario.\n",
        "inp_original = '12:30:15-13:41:07'\n",
        "diff_original_context = calculate_time_diff_with_default(inp_original)\n",
        "print(f\"Input: '{inp_original}' (เหมือนตัวอย่างเดิม Wed-Thu) -> เวลาต่างกันทั้งหมด {diff_original_context:,} วินาที\")\n",
        "\n"
      ],
      "metadata": {
        "id": "iMY5Q1cXhwAD",
        "outputId": "06373194-35bf-4da8-f630-aa936d49597c",
        "colab": {
          "base_uri": "https://localhost:8080/"
        }
      },
      "execution_count": 21,
      "outputs": [
        {
          "output_type": "stream",
          "name": "stdout",
          "text": [
            "Input: '12:30:15' -> เวลาต่างกันทั้งหมด 0 วินาที\n",
            "Input: '12:30:15-13:41:07' -> เวลาต่างกันทั้งหมด 4,252 วินาที\n",
            "Input: '23:00:00-01:00:00' -> เวลาต่างกันทั้งหมด 7,200 วินาที\n",
            "Input: '12:30:15-13:41:07' (เหมือนตัวอย่างเดิม Wed-Thu) -> เวลาต่างกันทั้งหมด 4,252 วินาที\n"
          ]
        }
      ]
    },
    {
      "cell_type": "markdown",
      "source": [
        "# Quiz3\n",
        "เขียน function ที่รับ input 1 ตัว ตาม format hh1:mm1:ss1 - hh2:mm2:ss2 และคำนวณหา ช่วงเวลาเป็นวินาที ที่ห่างกันระหว่า time1 และ time2 โดยยังไม่ต้องสนใจว่า time2 สามารถข้ามไปอีกวันได้"
      ],
      "metadata": {
        "id": "Alh7JMwDa1k1"
      }
    },
    {
      "cell_type": "code",
      "source": [
        "def cal_dif_secs(timeinput):\n",
        "    timelist = timeinput.split('-')\n",
        "    time1 = timelist[0].split(':')\n",
        "    time2 = timelist[1].split(':')\n",
        "    time1_sec = int(time1[0])*3600 + int(time1[1])*60 + int(time1[2])\n",
        "    time2_sec = int(time2[0])*3600 + int(time2[1])*60 + int(time2[2])\n",
        "    dif_sec = time2_sec - time1_sec\n",
        "    return dif_sec"
      ],
      "metadata": {
        "id": "Y_cPWPKzewFM"
      },
      "execution_count": null,
      "outputs": []
    },
    {
      "cell_type": "code",
      "source": [
        "cal_dif_secs('12:30:15-13:41:07')"
      ],
      "metadata": {
        "colab": {
          "base_uri": "https://localhost:8080/"
        },
        "id": "1lO3BaYJfUuF",
        "outputId": "e85344df-baad-4dd5-9955-684fd865cdfc"
      },
      "execution_count": null,
      "outputs": [
        {
          "output_type": "execute_result",
          "data": {
            "text/plain": [
              "4252"
            ]
          },
          "metadata": {},
          "execution_count": 19
        }
      ]
    },
    {
      "cell_type": "markdown",
      "source": [
        "# Quiz3.5\n",
        "\n",
        "รับ input 2 ตัว โดยตั้งค่า default time1 เป็น 00:00:00"
      ],
      "metadata": {
        "id": "GMMe5F1zgNV5"
      }
    },
    {
      "cell_type": "markdown",
      "source": [
        "## HW2\n",
        "\n",
        "วนลูป หา ช่วงเวลาเป็นวินาที ที่ห่างกันระหว่า time1 และ time2 ต่อไปนี้\n",
        "\n",
        "\n",
        "1. 18:09:10 - 18:25:10\n",
        "2. 13:38:39 - 23:54:39\n",
        "3. 16:49:58 - 18:05:58\n",
        "4. 21:49:10 - 22:24:10\n",
        "5. 08:52:21 - 09:25:21\n",
        "6. 06:56:26 - 07:49:26\n",
        "7. 12:08:05 - 12:43:05\n",
        "8. 01:48:38 - 07:18:38\n",
        "9. 08:51:21 - 10:17:21\n",
        "10. 17:05:17 - 18:09:17"
      ],
      "metadata": {
        "id": "Y60TMz5ijb_S"
      }
    },
    {
      "cell_type": "markdown",
      "metadata": {
        "id": "UB5fTAr3bPqg"
      },
      "source": [
        "# LOOP การวนซ้ำ"
      ]
    },
    {
      "cell_type": "markdown",
      "metadata": {
        "id": "gpIwjDjg0gfJ"
      },
      "source": [
        "for เป็นคำที่ใช้บอก python ว่าเรากำลังเขียน loop\n",
        "โดย for จะวนดึงสมาชิกจาก ```listA``` มาทำ process ```do_something```"
      ]
    },
    {
      "cell_type": "markdown",
      "metadata": {
        "id": "6XS2wO4_bPqg"
      },
      "source": [
        "```python\n",
        "    for each_member in listA :\n",
        "        do_something\n",
        "```"
      ]
    },
    {
      "cell_type": "markdown",
      "metadata": {
        "id": "d7kQ2AEcbPqg"
      },
      "source": [
        "#### คำสั่ง for เป็นคำสั่งวนซ้ำที่ใช้ควบคุมการทำงานซ้ำๆ ในจำนวนรอบที่แน่นอน"
      ]
    },
    {
      "cell_type": "code",
      "metadata": {
        "colab": {
          "base_uri": "https://localhost:8080/"
        },
        "id": "NcT-s7TEbPqg",
        "outputId": "12a14bbe-f3ff-42c8-bbb3-6f9a0f6097f8"
      },
      "source": [
        "for i in [1,2,3] :\n",
        "    o = i**2\n",
        "    print (f'this member = {i} after process = {o}')"
      ],
      "execution_count": null,
      "outputs": [
        {
          "output_type": "stream",
          "name": "stdout",
          "text": [
            "this member = 1 after process = 1\n",
            "this member = 2 after process = 4\n",
            "this member = 3 after process = 9\n"
          ]
        }
      ]
    },
    {
      "cell_type": "markdown",
      "metadata": {
        "id": "YbnFaiU2bPqg"
      },
      "source": [
        "#### ตัวอย่างการใช้คำสั่ง for ในการวนซ้ำค่าของ i เมื่อ i คือ 'Thanapong' และคำสั่ง print(f'{i} -> /') เพื่อกำหนดให้ผลลัพธ์แสดงสัญลักษณ์ -> /  จากนั้นเพิ่มคำสั่ง print(' ') อีกครั้งเพื่อให้ผลลัพธ์มีการเว้นวรรค¶"
      ]
    },
    {
      "cell_type": "code",
      "metadata": {
        "id": "kstoI_CEbPqh",
        "outputId": "1f66fa4a-09f2-44e8-89e0-299a9388f0c1",
        "colab": {
          "base_uri": "https://localhost:8080/"
        }
      },
      "source": [
        "for i in 'Thanapong':\n",
        "    print(f'{i} -> / ' )"
      ],
      "execution_count": null,
      "outputs": [
        {
          "output_type": "stream",
          "name": "stdout",
          "text": [
            "T -> / \n",
            "h -> / \n",
            "a -> / \n",
            "n -> / \n",
            "a -> / \n",
            "p -> / \n",
            "o -> / \n",
            "n -> / \n",
            "g -> / \n"
          ]
        }
      ]
    },
    {
      "cell_type": "code",
      "metadata": {
        "id": "mQmh0Ip-V8qR",
        "outputId": "0e01aa3e-f288-4865-d65d-2f2711066413",
        "colab": {
          "base_uri": "https://localhost:8080/"
        }
      },
      "source": [
        "for i in 'Thanapong':\n",
        "    print(f'{i} -> / ' ,end = '') #สั่งให้ print แบบ ไม่เว้นบรรทัด"
      ],
      "execution_count": null,
      "outputs": [
        {
          "output_type": "stream",
          "name": "stdout",
          "text": [
            "T -> / h -> / a -> / n -> / a -> / p -> / o -> / n -> / g -> / "
          ]
        }
      ]
    },
    {
      "cell_type": "markdown",
      "metadata": {
        "id": "3_I0IHOqXMIr"
      },
      "source": [
        "## สร้าง list ตัวเลขแบบอัตโนมัติ  range()"
      ]
    },
    {
      "cell_type": "code",
      "metadata": {
        "id": "ensAuLXBW-0P",
        "outputId": "e73e37e9-cdcf-47c4-f47a-765e7188860c",
        "colab": {
          "base_uri": "https://localhost:8080/"
        }
      },
      "source": [
        "range5_output = range(5)\n",
        "print(list(range5_output))"
      ],
      "execution_count": null,
      "outputs": [
        {
          "output_type": "stream",
          "name": "stdout",
          "text": [
            "[0, 1, 2, 3, 4]\n"
          ]
        }
      ]
    },
    {
      "cell_type": "code",
      "metadata": {
        "id": "r8JXggPKXrEx",
        "outputId": "bcb4fe84-093e-4623-d62c-2c227d1cceec",
        "colab": {
          "base_uri": "https://localhost:8080/"
        }
      },
      "source": [
        "for i in range(100):\n",
        "    print('งง',end=' ')"
      ],
      "execution_count": null,
      "outputs": [
        {
          "output_type": "stream",
          "name": "stdout",
          "text": [
            "งง งง งง งง งง งง งง งง งง งง งง งง งง งง งง งง งง งง งง งง งง งง งง งง งง งง งง งง งง งง งง งง งง งง งง งง งง งง งง งง งง งง งง งง งง งง งง งง งง งง งง งง งง งง งง งง งง งง งง งง งง งง งง งง งง งง งง งง งง งง งง งง งง งง งง งง งง งง งง งง งง งง งง งง งง งง งง งง งง งง งง งง งง งง งง งง งง งง งง งง "
          ]
        }
      ]
    },
    {
      "cell_type": "code",
      "metadata": {
        "id": "RLvhNqw8YpKa",
        "outputId": "19ae69a5-474b-4d30-f4ce-bdeddf084c71",
        "colab": {
          "base_uri": "https://localhost:8080/"
        }
      },
      "source": [
        "list(range(1,11)) #เริ่มต้นเป็นวงทึบ จบเป็นวงกลมโปร่ง เหมือน list slicing"
      ],
      "execution_count": null,
      "outputs": [
        {
          "output_type": "execute_result",
          "data": {
            "text/plain": [
              "[1, 2, 3, 4, 5, 6, 7, 8, 9, 10]"
            ]
          },
          "metadata": {},
          "execution_count": 27
        }
      ]
    },
    {
      "cell_type": "code",
      "metadata": {
        "id": "MqXQ9NLGcW-r",
        "outputId": "ab839a9f-525a-40d4-b7d1-4b8f0d4de3a7",
        "colab": {
          "base_uri": "https://localhost:8080/"
        }
      },
      "source": [
        "list(range(-3,20,4))"
      ],
      "execution_count": null,
      "outputs": [
        {
          "output_type": "execute_result",
          "data": {
            "text/plain": [
              "[-3, 1, 5, 9, 13, 17]"
            ]
          },
          "metadata": {},
          "execution_count": 28
        }
      ]
    },
    {
      "cell_type": "markdown",
      "metadata": {
        "id": "vPcR4tJebPqi"
      },
      "source": [
        "### loop in loop\n",
        "#### สามารถใช้ for loop ซ้อนกันสองรอบได้¶"
      ]
    },
    {
      "cell_type": "code",
      "metadata": {
        "id": "TKRcpd5DbPqi",
        "outputId": "b18bd9af-fe48-4979-ba91-f8faf2a8787a",
        "colab": {
          "base_uri": "https://localhost:8080/"
        }
      },
      "source": [
        "for name1 in  range(2,5): #(2, 3, 4)\n",
        "    print(f'now name1 = {name1}')\n",
        "    for name2 in  range(1,13):\n",
        "        print('  ', name1,' x ',name2,' = ',name1*name2)\n",
        "    print('the inner loop is end')"
      ],
      "execution_count": null,
      "outputs": [
        {
          "output_type": "stream",
          "name": "stdout",
          "text": [
            "now name1 = 2\n",
            "   2  x  1  =  2\n",
            "   2  x  2  =  4\n",
            "   2  x  3  =  6\n",
            "   2  x  4  =  8\n",
            "   2  x  5  =  10\n",
            "   2  x  6  =  12\n",
            "   2  x  7  =  14\n",
            "   2  x  8  =  16\n",
            "   2  x  9  =  18\n",
            "   2  x  10  =  20\n",
            "   2  x  11  =  22\n",
            "   2  x  12  =  24\n",
            "the inner loop is end\n",
            "now name1 = 3\n",
            "   3  x  1  =  3\n",
            "   3  x  2  =  6\n",
            "   3  x  3  =  9\n",
            "   3  x  4  =  12\n",
            "   3  x  5  =  15\n",
            "   3  x  6  =  18\n",
            "   3  x  7  =  21\n",
            "   3  x  8  =  24\n",
            "   3  x  9  =  27\n",
            "   3  x  10  =  30\n",
            "   3  x  11  =  33\n",
            "   3  x  12  =  36\n",
            "the inner loop is end\n",
            "now name1 = 4\n",
            "   4  x  1  =  4\n",
            "   4  x  2  =  8\n",
            "   4  x  3  =  12\n",
            "   4  x  4  =  16\n",
            "   4  x  5  =  20\n",
            "   4  x  6  =  24\n",
            "   4  x  7  =  28\n",
            "   4  x  8  =  32\n",
            "   4  x  9  =  36\n",
            "   4  x  10  =  40\n",
            "   4  x  11  =  44\n",
            "   4  x  12  =  48\n",
            "the inner loop is end\n"
          ]
        }
      ]
    },
    {
      "cell_type": "markdown",
      "metadata": {
        "id": "7-FAZit8bPqi"
      },
      "source": [
        "### loop in function\n",
        "#### การวนลูปในฟังก์ชั่น¶"
      ]
    },
    {
      "cell_type": "code",
      "metadata": {
        "id": "S0r5yhbDbPqi"
      },
      "source": [
        "def print_feelings(I,friendS,feeling = 'คิดถึง'):\n",
        "    for friend in friendS:\n",
        "        print(f'{I} {feeling} {friend}')"
      ],
      "execution_count": null,
      "outputs": []
    },
    {
      "cell_type": "code",
      "metadata": {
        "id": "_oVKj4SRfGS6"
      },
      "source": [
        "list_friends = ['พี่บูม','ดายน์','แตงโม','ฝน','พี่เจ็ท','น้องแคมป์']"
      ],
      "execution_count": null,
      "outputs": []
    },
    {
      "cell_type": "code",
      "metadata": {
        "id": "RepVZqu6bPqi",
        "outputId": "3153d88c-bb4e-44af-e3e8-1944d1a7d788",
        "colab": {
          "base_uri": "https://localhost:8080/"
        }
      },
      "source": [
        "print_feelings('เจมส์',list_friends)"
      ],
      "execution_count": null,
      "outputs": [
        {
          "output_type": "stream",
          "name": "stdout",
          "text": [
            "เจมส์ คิดถึง พี่บูม\n",
            "เจมส์ คิดถึง ดายน์\n",
            "เจมส์ คิดถึง แตงโม\n",
            "เจมส์ คิดถึง ฝน\n",
            "เจมส์ คิดถึง พี่เจ็ท\n",
            "เจมส์ คิดถึง น้องแคมป์\n"
          ]
        }
      ]
    },
    {
      "cell_type": "code",
      "metadata": {
        "id": "P20pDnVaf2vK",
        "outputId": "cb59f42c-9fb9-4d1b-8b99-58294130d44d",
        "colab": {
          "base_uri": "https://localhost:8080/"
        }
      },
      "source": [
        "print_feelings('เจมส์',list_friends,feeling='รัก')"
      ],
      "execution_count": null,
      "outputs": [
        {
          "output_type": "stream",
          "name": "stdout",
          "text": [
            "เจมส์ รัก พี่บูม\n",
            "เจมส์ รัก ดายน์\n",
            "เจมส์ รัก แตงโม\n",
            "เจมส์ รัก ฝน\n",
            "เจมส์ รัก พี่เจ็ท\n",
            "เจมส์ รัก น้องแคมป์\n"
          ]
        }
      ]
    },
    {
      "cell_type": "code",
      "metadata": {
        "id": "SzHamL8JhKG4",
        "outputId": "19fac0b6-f144-486a-8200-8e246090c9d1",
        "colab": {
          "base_uri": "https://localhost:8080/"
        }
      },
      "source": [
        "print_feelings('เจมส์',list_friends,'รัก')"
      ],
      "execution_count": null,
      "outputs": [
        {
          "output_type": "stream",
          "name": "stdout",
          "text": [
            "เจมส์ รัก พี่บูม\n",
            "เจมส์ รัก ดายน์\n",
            "เจมส์ รัก แตงโม\n",
            "เจมส์ รัก ฝน\n",
            "เจมส์ รัก พี่เจ็ท\n",
            "เจมส์ รัก น้องแคมป์\n"
          ]
        }
      ]
    },
    {
      "cell_type": "markdown",
      "source": [
        "จบ 24 มิย 67"
      ],
      "metadata": {
        "id": "GJAB4hnvnAX8"
      }
    },
    {
      "cell_type": "markdown",
      "source": [
        "## Dictionary (Data Structure)\n",
        "\n",
        "โครงสร้างข้อมูลที่จัดเก็บข้อมูลโดยการอ้างอิงโดย text\n",
        "\n",
        "วงเล็บ ```{``` ```}``` Curly Brackets"
      ],
      "metadata": {
        "id": "VreW55vmVRcb"
      }
    },
    {
      "cell_type": "code",
      "source": [
        "Ex_dict_A = {'memberA':[1,2,3],'memberB':8,'memberC':'abc'}"
      ],
      "metadata": {
        "id": "i-oH98ilV1RV"
      },
      "execution_count": null,
      "outputs": []
    },
    {
      "cell_type": "code",
      "source": [
        "Ex_dict_A"
      ],
      "metadata": {
        "colab": {
          "base_uri": "https://localhost:8080/"
        },
        "id": "kIwdnWuqWr58",
        "outputId": "694d94ad-5ac6-47a8-e6d6-01f62d578d9b"
      },
      "execution_count": null,
      "outputs": [
        {
          "output_type": "execute_result",
          "data": {
            "text/plain": [
              "{'memberA': [1, 2, 3], 'memberB': 8, 'memberC': 'abc'}"
            ]
          },
          "metadata": {},
          "execution_count": 2
        }
      ]
    },
    {
      "cell_type": "code",
      "source": [
        "Ex_dict_A['memberA']"
      ],
      "metadata": {
        "colab": {
          "base_uri": "https://localhost:8080/"
        },
        "id": "J4yy6oaXW4he",
        "outputId": "153013bf-f9bd-4cd9-a182-bf13744d02c7"
      },
      "execution_count": null,
      "outputs": [
        {
          "output_type": "execute_result",
          "data": {
            "text/plain": [
              "[1, 2, 3]"
            ]
          },
          "metadata": {},
          "execution_count": 5
        }
      ]
    },
    {
      "cell_type": "code",
      "source": [
        "Ex_dict_A['memberA'][1]"
      ],
      "metadata": {
        "colab": {
          "base_uri": "https://localhost:8080/"
        },
        "id": "cZjtUbdnXZK-",
        "outputId": "0eaa0d49-1a2a-41d6-bb62-7c3252df977f"
      },
      "execution_count": null,
      "outputs": [
        {
          "output_type": "execute_result",
          "data": {
            "text/plain": [
              "2"
            ]
          },
          "metadata": {},
          "execution_count": 6
        }
      ]
    },
    {
      "cell_type": "markdown",
      "metadata": {
        "id": "vwK7RmRJbPqj"
      },
      "source": [
        "### looping in dict\n",
        "#### ทำการวนลูปในค่า dict โดยที่เรากำหนดตัว key และvalueขึ้นมา ได้ดังนี้\n"
      ]
    },
    {
      "cell_type": "code",
      "metadata": {
        "id": "HI0F-4HobPqj",
        "outputId": "f5dff6b6-6102-4445-cc19-4574cf6790b2",
        "colab": {
          "base_uri": "https://localhost:8080/"
        }
      },
      "source": [
        "name_grade = {'พันทิพา' : 'B','ศุภนิตา' : 'C','ปนัดดา' : 'A','ทรงกลด' : 'F'}\n",
        "name_grade"
      ],
      "execution_count": null,
      "outputs": [
        {
          "output_type": "execute_result",
          "data": {
            "text/plain": [
              "{'พันทิพา': 'B', 'ศุภนิตา': 'C', 'ปนัดดา': 'A', 'ทรงกลด': 'F'}"
            ]
          },
          "metadata": {},
          "execution_count": 7
        }
      ]
    },
    {
      "cell_type": "code",
      "metadata": {
        "id": "jWf8aBmpbPqj",
        "outputId": "d19b353a-86f8-4dcc-e1d5-a5a0d233c332",
        "colab": {
          "base_uri": "https://localhost:8080/",
          "height": 56
        }
      },
      "source": [
        "name_grade['ปนัดดา']"
      ],
      "execution_count": null,
      "outputs": [
        {
          "output_type": "execute_result",
          "data": {
            "text/plain": [
              "'A'"
            ],
            "application/vnd.google.colaboratory.intrinsic+json": {
              "type": "string"
            }
          },
          "metadata": {},
          "execution_count": 8
        }
      ]
    },
    {
      "cell_type": "code",
      "source": [
        "name_grade.keys()"
      ],
      "metadata": {
        "colab": {
          "base_uri": "https://localhost:8080/"
        },
        "id": "0tXZc6kgYPgm",
        "outputId": "13096d92-02b7-4de1-9845-3552562916b2"
      },
      "execution_count": null,
      "outputs": [
        {
          "output_type": "execute_result",
          "data": {
            "text/plain": [
              "dict_keys(['พันทิพา', 'ศุภนิตา', 'ปนัดดา', 'ทรงกลด'])"
            ]
          },
          "metadata": {},
          "execution_count": 9
        }
      ]
    },
    {
      "cell_type": "code",
      "source": [
        "name_grade.values()"
      ],
      "metadata": {
        "colab": {
          "base_uri": "https://localhost:8080/"
        },
        "id": "zEqstk33YRxp",
        "outputId": "e01dc8af-865a-4ba3-809c-370371d8409e"
      },
      "execution_count": null,
      "outputs": [
        {
          "output_type": "execute_result",
          "data": {
            "text/plain": [
              "dict_values(['B', 'C', 'A', 'F'])"
            ]
          },
          "metadata": {},
          "execution_count": 10
        }
      ]
    },
    {
      "cell_type": "code",
      "metadata": {
        "scrolled": true,
        "id": "eDqhoebhbPqj",
        "outputId": "e3bed2bc-662c-4001-c6af-548dd9b7f0fc",
        "colab": {
          "base_uri": "https://localhost:8080/"
        }
      },
      "source": [
        "for i in name_grade.keys():\n",
        "    print(i)"
      ],
      "execution_count": null,
      "outputs": [
        {
          "output_type": "stream",
          "name": "stdout",
          "text": [
            "พันทิพา\n",
            "ศุภนิตา\n",
            "ปนัดดา\n",
            "ทรงกลด\n"
          ]
        }
      ]
    },
    {
      "cell_type": "code",
      "metadata": {
        "id": "Imvq4faObPqj",
        "outputId": "4debf4e7-78ed-431a-8b4a-61f4500d39a8",
        "colab": {
          "base_uri": "https://localhost:8080/"
        }
      },
      "source": [
        "for i in name_grade.keys():\n",
        "    print(f'{i} ได้เกรด {name_grade[i]}')"
      ],
      "execution_count": null,
      "outputs": [
        {
          "output_type": "stream",
          "name": "stdout",
          "text": [
            "พันทิพา ได้เกรด B\n",
            "ศุภนิตา ได้เกรด C\n",
            "ปนัดดา ได้เกรด A\n",
            "ทรงกลด ได้เกรด F\n"
          ]
        }
      ]
    },
    {
      "cell_type": "markdown",
      "source": [
        "## HW2 Example"
      ],
      "metadata": {
        "id": "CrnK1_WPaYv7"
      }
    },
    {
      "cell_type": "code",
      "source": [
        "time_list =  [\n",
        "    [\"18:09:10\", \"18:25:10\"],\n",
        "    [\"13:38:39\", \"23:54:39\"],\n",
        "    [\"16:49:58\", \"18:05:58\"],\n",
        "    [\"21:49:10\", \"22:24:10\"],\n",
        "    [\"08:52:21\", \"09:25:21\"],\n",
        "    [\"06:56:26\", \"07:49:26\"],\n",
        "    [\"12:08:05\", \"12:43:05\"],\n",
        "    [\"01:48:38\", \"07:18:38\"],\n",
        "    [\"08:51:21\", \"10:17:21\"],\n",
        "    [\"17:05:17\", \"18:09:17\"]]\n",
        "\n",
        "def time_to_second(time1,time2):\n",
        "    time1_list = time1.split(':')\n",
        "    time2_list = time2.split(':')\n",
        "    time1_sec = int(time1_list[0])*3600 + int(time1_list[1])*60 + int(time1_list[2])\n",
        "    time2_sec = int(time2_list[0])*3600 + int(time2_list[1])*60 + int(time2_list[2])\n",
        "    return(time2_sec - time1_sec)\n",
        "\n",
        "for time1,time2 in time_list:\n",
        "  diff_seconds = time_to_second(time1,time2)\n",
        "  print(f\"Time difference between {time1} - {time2} is {diff_seconds} seconds\")"
      ],
      "metadata": {
        "colab": {
          "base_uri": "https://localhost:8080/"
        },
        "id": "BqYhLFc5aYa2",
        "outputId": "825e1a7c-f359-44cc-9e02-160670dc983c"
      },
      "execution_count": null,
      "outputs": [
        {
          "output_type": "stream",
          "name": "stdout",
          "text": [
            "Time difference between 18:09:10 - 18:25:10 is 960 seconds\n",
            "Time difference between 13:38:39 - 23:54:39 is 36960 seconds\n",
            "Time difference between 16:49:58 - 18:05:58 is 4560 seconds\n",
            "Time difference between 21:49:10 - 22:24:10 is 2100 seconds\n",
            "Time difference between 08:52:21 - 09:25:21 is 1980 seconds\n",
            "Time difference between 06:56:26 - 07:49:26 is 3180 seconds\n",
            "Time difference between 12:08:05 - 12:43:05 is 2100 seconds\n",
            "Time difference between 01:48:38 - 07:18:38 is 19800 seconds\n",
            "Time difference between 08:51:21 - 10:17:21 is 5160 seconds\n",
            "Time difference between 17:05:17 - 18:09:17 is 3840 seconds\n"
          ]
        }
      ]
    },
    {
      "cell_type": "code",
      "source": [
        "time1 = \"18:09:10\"\n",
        "time2 = \"00:25:10\"\n",
        "diff_seconds = time_to_second(time1,time2)\n",
        "print(f\"Time difference between {time1} - {time2} is {diff_seconds} seconds\")"
      ],
      "metadata": {
        "colab": {
          "base_uri": "https://localhost:8080/"
        },
        "id": "lbz-CNPlbGYq",
        "outputId": "31befb8b-40ae-47b0-876d-a94e7ecfe760"
      },
      "execution_count": null,
      "outputs": [
        {
          "output_type": "stream",
          "name": "stdout",
          "text": [
            "Time difference between 18:09:10 - 00:25:10 is -63840 seconds\n"
          ]
        }
      ]
    },
    {
      "cell_type": "markdown",
      "metadata": {
        "id": "pLDGW8IobPqk"
      },
      "source": [
        "# Conditional statemet คือ ประโยคเงื่อนไข"
      ]
    },
    {
      "cell_type": "markdown",
      "source": [
        "ชนิดตัวแปรที่เกี่ยวข้อ Boolean (True,False)"
      ],
      "metadata": {
        "id": "TvK12jMwcVp8"
      }
    },
    {
      "cell_type": "code",
      "source": [
        "condition_1 = True\n",
        "condition_2 = False"
      ],
      "metadata": {
        "id": "JWxlKa-icUk6"
      },
      "execution_count": null,
      "outputs": []
    },
    {
      "cell_type": "markdown",
      "metadata": {
        "id": "8_-zCLkrbPqk"
      },
      "source": [
        "### การวนลูปโดยมีเงื่อนไขต่างๆมาเกี่ยวข้อง โดยมี pattern ดังนี้\n"
      ]
    },
    {
      "cell_type": "markdown",
      "metadata": {
        "id": "ZQuWb-bybPqk"
      },
      "source": [
        "```Python\n",
        "if condition1 :\n",
        "    do something\n",
        "elif condition2 :  #elif คือ else if\n",
        "    do another thing\n",
        "else:\n",
        "    do ...\n",
        "```\n",
        "    "
      ]
    },
    {
      "cell_type": "markdown",
      "metadata": {
        "id": "kUPdCRG7bPqk"
      },
      "source": [
        "## ==, !=,>=,<=,<,> Operator ของตัวเลข"
      ]
    },
    {
      "cell_type": "code",
      "source": [
        "def time_to_second(time1):\n",
        "    time1_list = time1.split(':')\n",
        "    time1_sec = int(time1_list[0])*3600 + int(time1_list[1])*60 + int(time1_list[2])\n",
        "    return time1_sec"
      ],
      "metadata": {
        "id": "9NIOIupSd_Zn"
      },
      "execution_count": null,
      "outputs": []
    },
    {
      "cell_type": "code",
      "source": [
        "time_list =  [\n",
        "    [\"18:09:10\", \"18:25:10\"],\n",
        "    [\"13:38:39\", \"23:54:39\"],[\"16:49:58\", \"18:05:58\"],\n",
        "    [\"21:49:10\", \"22:24:10\"],[\"08:52:21\", \"09:25:21\"],\n",
        "    [\"06:56:26\", \"07:49:26\"],[\"12:08:05\", \"12:43:05\"],\n",
        "    [\"01:48:38\", \"07:18:38\"],[\"08:51:21\", \"10:17:21\"],\n",
        "    [\"17:05:17\", \"18:09:17\"],[\"18:51:21\", \"00:17:21\"],\n",
        "    [\"17:05:17\", \"11:09:17\"],]"
      ],
      "metadata": {
        "id": "CYcYQJ45d8Wx"
      },
      "execution_count": null,
      "outputs": []
    },
    {
      "cell_type": "code",
      "source": [
        "for time1,time2 in time_list:\n",
        "\n",
        "    if time_to_second(time1) < time_to_second(time2): #ถ้า time1 น้อยกว่า time2\n",
        "        diff_seconds = time_to_second(time2) - time_to_second(time1)\n",
        "    else: #ถ้า time1 ไม่น้อยกว่า time2\n",
        "        diff_seconds = (time_to_second(time2)+(24*60*60)) - time_to_second(time1)\n",
        "\n",
        "    print(f\"Time difference between {time1} - {time2} is {diff_seconds} seconds\")"
      ],
      "metadata": {
        "colab": {
          "base_uri": "https://localhost:8080/"
        },
        "id": "sv-1il2_dmvv",
        "outputId": "50f45721-6ca1-4fc0-f786-ec748affb410"
      },
      "execution_count": null,
      "outputs": [
        {
          "output_type": "stream",
          "name": "stdout",
          "text": [
            "Time difference between 18:09:10 - 18:25:10 is 960 seconds\n",
            "Time difference between 13:38:39 - 23:54:39 is 36960 seconds\n",
            "Time difference between 16:49:58 - 18:05:58 is 4560 seconds\n",
            "Time difference between 21:49:10 - 22:24:10 is 2100 seconds\n",
            "Time difference between 08:52:21 - 09:25:21 is 1980 seconds\n",
            "Time difference between 06:56:26 - 07:49:26 is 3180 seconds\n",
            "Time difference between 12:08:05 - 12:43:05 is 2100 seconds\n",
            "Time difference between 01:48:38 - 07:18:38 is 19800 seconds\n",
            "Time difference between 08:51:21 - 10:17:21 is 5160 seconds\n",
            "Time difference between 17:05:17 - 18:09:17 is 3840 seconds\n",
            "Time difference between 18:51:21 - 00:17:21 is 19560 seconds\n",
            "Time difference between 17:05:17 - 11:09:17 is 65040 seconds\n"
          ]
        }
      ]
    },
    {
      "cell_type": "markdown",
      "source": [
        "# HW3 เพิ่ม ฟังก์ชั่นแปลงวินาทีกลับมาเป็น ชั่วโมง นาที วินาที โดยไม่ใช่ฟังก์ชั่นช่วยเหลืออื่นๆของ python (~~import~~) ถ้าส่วนของ ชั่วโมง นาที วินาที เป็นศูนย์ ไม่ต้องแสดง"
      ],
      "metadata": {
        "id": "JMvgwO7tgxSZ"
      }
    },
    {
      "cell_type": "markdown",
      "metadata": {
        "id": "sSySEFHNbPql"
      },
      "source": [
        "# HW 4\n",
        "#### เขียน function ตัดเกรด โดยที่ input เป็นคะแนน(0-100) , output เป็นเกรด (F-A)\n",
        "#### วนลูปตัดเกรด input = [1,50,65,90,101,-5,49]"
      ]
    },
    {
      "cell_type": "markdown",
      "metadata": {
        "id": "c3TDhZHzbPqm"
      },
      "source": [
        "##### กำหนด\n",
        "      ถ้าคะแนนอยู่ระหว่างมากกว่าหรือเท่ากับ  0  แต่น้อยกว่า 50 จะได้เกรด F\n",
        "      ถ้าคะแนนอยู่ระหว่างมากกว่าหรือเท่ากับ 50 แต่น้อยกว่า 55 จะได้เกรด D\n",
        "      ถ้าคะแนนอยู่ระหว่างมากกว่าหรือเท่ากับ 55 แต่น้อยกว่า 60 จะได้เกรด D+\n",
        "      ถ้าคะแนนอยู่ระหว่างมากกว่าหรือเท่ากับ 60 แต่น้อยกว่า 65 จะได้เกรด C\n",
        "      ถ้าคะแนนอยู่ระหว่างมากกว่าหรือเท่ากับ 65 แต่น้อยกว่า 70 จะได้เกรด C+\n",
        "      ถ้าคะแนนอยู่ระหว่างมากกว่าหรือเท่ากับ 70 แต่น้อยกว่า 75 จะได้เกรด B\n",
        "      ถ้าคะแนนอยู่ระหว่างมากกว่าหรือเท่ากับ 75 แต่น้อยกว่า 80 จะได้เกรด B+\n",
        "      ถ้าคะแนนอยู่ระหว่างมากกว่าหรือเท่ากับ 80  จะได้เกรด A\n",
        "      แต่ว่าค่าคะแนนจะต้องไม่ต่ำกว่า 0 และมากกว่า 100 ไม่งั้นจะเกิด error"
      ]
    },
    {
      "cell_type": "markdown",
      "source": [
        "## ```&```, ```|```, ```in```, ```is```   :  Operator อื่นๆ"
      ],
      "metadata": {
        "id": "HSMQXdmmipMp"
      }
    },
    {
      "cell_type": "code",
      "source": [
        "if (1>0) & (0>-1):\n",
        "    print(True & True)"
      ],
      "metadata": {
        "id": "ES5d1z0ti306",
        "outputId": "4bc178b2-a5d8-4476-e02c-c87ddd5b91ce",
        "colab": {
          "base_uri": "https://localhost:8080/"
        }
      },
      "execution_count": null,
      "outputs": [
        {
          "output_type": "stream",
          "name": "stdout",
          "text": [
            "True\n"
          ]
        }
      ]
    },
    {
      "cell_type": "code",
      "source": [
        "if 'T' in 'Thanapong':\n",
        "    print('T in Thanapong')"
      ],
      "metadata": {
        "id": "3COnyOTKipAc",
        "outputId": "d50e2919-9cbc-41fb-d20f-6e5a371ebba1",
        "colab": {
          "base_uri": "https://localhost:8080/"
        }
      },
      "execution_count": null,
      "outputs": [
        {
          "output_type": "stream",
          "name": "stdout",
          "text": [
            "T in Thanapong\n"
          ]
        }
      ]
    },
    {
      "cell_type": "code",
      "source": [
        "def return_nothing(x):\n",
        "    x = x+1"
      ],
      "metadata": {
        "id": "01N3TOG9k3ti"
      },
      "execution_count": null,
      "outputs": []
    },
    {
      "cell_type": "code",
      "source": [
        "a = return_nothing(5)"
      ],
      "metadata": {
        "id": "drWbuBwNldOL"
      },
      "execution_count": null,
      "outputs": []
    },
    {
      "cell_type": "code",
      "source": [
        "if a is None:\n",
        "    print('x is null')"
      ],
      "metadata": {
        "id": "pOj0pkEEkbuW",
        "outputId": "29d5bf18-d242-40f3-a542-26c39aa2fcca",
        "colab": {
          "base_uri": "https://localhost:8080/"
        }
      },
      "execution_count": null,
      "outputs": [
        {
          "output_type": "stream",
          "name": "stdout",
          "text": [
            "x is null\n"
          ]
        }
      ]
    },
    {
      "cell_type": "code",
      "source": [],
      "metadata": {
        "id": "y1ET-H8ylyxP"
      },
      "execution_count": null,
      "outputs": []
    },
    {
      "cell_type": "markdown",
      "metadata": {
        "id": "Bg3vVE3GbPqn"
      },
      "source": [
        "# Finish"
      ]
    }
  ]
}