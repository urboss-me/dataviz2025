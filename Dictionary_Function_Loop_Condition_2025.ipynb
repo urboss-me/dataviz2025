{
  "nbformat": 4,
  "nbformat_minor": 0,
  "metadata": {
    "kernelspec": {
      "display_name": "Python 3",
      "language": "python",
      "name": "python3"
    },
    "language_info": {
      "codemirror_mode": {
        "name": "ipython",
        "version": 3
      },
      "file_extension": ".py",
      "mimetype": "text/x-python",
      "name": "python",
      "nbconvert_exporter": "python",
      "pygments_lexer": "ipython3",
      "version": "3.7.4"
    },
    "colab": {
      "provenance": [],
      "toc_visible": true,
      "include_colab_link": true
    }
  },
  "cells": [
    {
      "cell_type": "markdown",
      "metadata": {
        "id": "view-in-github",
        "colab_type": "text"
      },
      "source": [
        "<a href=\"https://colab.research.google.com/github/urboss-me/dataviz2025/blob/main/Dictionary_Function_Loop_Condition_2025.ipynb\" target=\"_parent\"><img src=\"https://colab.research.google.com/assets/colab-badge.svg\" alt=\"Open In Colab\"/></a>"
      ]
    },
    {
      "cell_type": "markdown",
      "source": [
        "# Dictionary"
      ],
      "metadata": {
        "id": "BMTqkV73RT0b"
      }
    },
    {
      "cell_type": "code",
      "source": [
        "dict_a = {'abc':123,'def':456,'ghi':789}"
      ],
      "metadata": {
        "id": "MaGNbhVQRRSL"
      },
      "execution_count": null,
      "outputs": []
    },
    {
      "cell_type": "code",
      "source": [
        "dict_a"
      ],
      "metadata": {
        "colab": {
          "base_uri": "https://localhost:8080/"
        },
        "id": "lkegMadtSq-D",
        "outputId": "8baa931c-77e8-4e33-a91a-b4249e06b79e"
      },
      "execution_count": null,
      "outputs": [
        {
          "output_type": "execute_result",
          "data": {
            "text/plain": [
              "{'abc': 123, 'def': 456, 'ghi': 789}"
            ]
          },
          "metadata": {},
          "execution_count": 2
        }
      ]
    },
    {
      "cell_type": "code",
      "source": [
        "dict_a['def']"
      ],
      "metadata": {
        "colab": {
          "base_uri": "https://localhost:8080/"
        },
        "id": "NqWcfzuoS2bG",
        "outputId": "0ee4f464-8ac4-48e6-e3e1-0d7be75e10f3"
      },
      "execution_count": null,
      "outputs": [
        {
          "output_type": "execute_result",
          "data": {
            "text/plain": [
              "456"
            ]
          },
          "metadata": {},
          "execution_count": 3
        }
      ]
    },
    {
      "cell_type": "code",
      "source": [
        "dict_b = {}"
      ],
      "metadata": {
        "id": "jxL0_5UbTQfE"
      },
      "execution_count": null,
      "outputs": []
    },
    {
      "cell_type": "code",
      "source": [
        "dict_b['a'] = 123"
      ],
      "metadata": {
        "id": "88tPFRsaTZ8F"
      },
      "execution_count": null,
      "outputs": []
    },
    {
      "cell_type": "code",
      "source": [
        "dict_b"
      ],
      "metadata": {
        "colab": {
          "base_uri": "https://localhost:8080/"
        },
        "id": "orGsq1LvTi5O",
        "outputId": "0afde9ca-28b8-4096-be93-9b2b10542170"
      },
      "execution_count": null,
      "outputs": [
        {
          "output_type": "execute_result",
          "data": {
            "text/plain": [
              "{'a': 123}"
            ]
          },
          "metadata": {},
          "execution_count": 6
        }
      ]
    },
    {
      "cell_type": "code",
      "source": [
        "dict_b['a'] = 567"
      ],
      "metadata": {
        "id": "HIRMmGKJTstN"
      },
      "execution_count": null,
      "outputs": []
    },
    {
      "cell_type": "code",
      "source": [
        "dict_b"
      ],
      "metadata": {
        "colab": {
          "base_uri": "https://localhost:8080/"
        },
        "id": "HDdIL8L_T4EE",
        "outputId": "0459a55b-5a4b-4826-b085-c7905e1dd6a6"
      },
      "execution_count": null,
      "outputs": [
        {
          "output_type": "execute_result",
          "data": {
            "text/plain": [
              "{'a': 567}"
            ]
          },
          "metadata": {},
          "execution_count": 9
        }
      ]
    },
    {
      "cell_type": "markdown",
      "source": [
        "## การ add สมาชิกเข้าไปใน dict"
      ],
      "metadata": {
        "id": "ao_VyxIqUCXv"
      }
    },
    {
      "cell_type": "code",
      "source": [
        "if 'b' not in dict_b:\n",
        "    dict_b['b'] = 123"
      ],
      "metadata": {
        "id": "SkHgyzbPT_qi"
      },
      "execution_count": null,
      "outputs": []
    },
    {
      "cell_type": "code",
      "source": [
        "dict_b"
      ],
      "metadata": {
        "colab": {
          "base_uri": "https://localhost:8080/"
        },
        "id": "1iT2-a2rUaCj",
        "outputId": "831b3c0f-303e-44f7-c296-eafa35f5684b"
      },
      "execution_count": null,
      "outputs": [
        {
          "output_type": "execute_result",
          "data": {
            "text/plain": [
              "{'a': 567, 'b': 123}"
            ]
          },
          "metadata": {},
          "execution_count": 12
        }
      ]
    },
    {
      "cell_type": "markdown",
      "metadata": {
        "id": "-57L9aVubPqU"
      },
      "source": [
        "# Function"
      ]
    },
    {
      "cell_type": "markdown",
      "metadata": {
        "id": "1DNzYhO4bPqb"
      },
      "source": [
        "## Function template\n",
        "#### ทำหน้าที่รับ input มาประมวณผลออกมาเป็น output\n",
        "#### f(x) = y"
      ]
    },
    {
      "cell_type": "markdown",
      "metadata": {
        "id": "3Nv1ZDEKbPqc"
      },
      "source": [
        "### def คือการกำหนดฟังก์ชัน"
      ]
    },
    {
      "cell_type": "markdown",
      "metadata": {
        "id": "DbHDoWEabPqc"
      },
      "source": [
        "```python\n",
        "    def function_name(_Input_) :\n",
        "        do_something with _Input_ to get _Output_\n",
        "        return _Output_\n",
        "```"
      ]
    },
    {
      "cell_type": "markdown",
      "metadata": {
        "id": "1fuimreqpVhU"
      },
      "source": [
        "เราใช้ เว้นวรรค (indent) เพื่อบอกขอบเขตของโปรแกรม"
      ]
    },
    {
      "cell_type": "markdown",
      "metadata": {
        "id": "kh2M1smCl5Iv"
      },
      "source": [
        "function มีส่วนสำคัญทั้งหมด 4 ส่วน\n",
        "\n",
        "1.   บอก python ว่าเราจะเขียนฟังก์ชั่น ชื่ออะไร  ```def function_name():``` (ขาดไม่ได้)\n",
        "2.   กำหนดตัวแปรที่จะเป็น input  ```_Input_``` (ขาดได้)\n",
        "3.   ส่วนประมวลผล ```do_something with _Input_ to get _Output_``` (ขาดไม่ได้)\n",
        "4.   ส่วน output ```return _Output_```(ขาดได้)\n",
        "\n"
      ]
    },
    {
      "cell_type": "markdown",
      "metadata": {
        "id": "lqWzVN5AbPqc"
      },
      "source": [
        "#### ตัวอย่างการเขียน normal function\n"
      ]
    },
    {
      "cell_type": "code",
      "source": [
        "def print_myname():   # ตัวอย่าง function ที่ไม่มีทั้ง input และ output\n",
        "    print('Thanapong')"
      ],
      "metadata": {
        "id": "6wzfVo_pTefO"
      },
      "execution_count": null,
      "outputs": []
    },
    {
      "cell_type": "code",
      "source": [
        "print_myname()"
      ],
      "metadata": {
        "colab": {
          "base_uri": "https://localhost:8080/"
        },
        "id": "482E9UnsUMkC",
        "outputId": "0a2f0863-3d56-4688-d7cd-c307a53df42f"
      },
      "execution_count": null,
      "outputs": [
        {
          "output_type": "stream",
          "name": "stdout",
          "text": [
            "Thanapong\n"
          ]
        }
      ]
    },
    {
      "cell_type": "code",
      "source": [
        "b = print_myname()"
      ],
      "metadata": {
        "colab": {
          "base_uri": "https://localhost:8080/"
        },
        "id": "Tvh64fNKXa4A",
        "outputId": "f4fa08b4-2b2e-40f1-bdc1-fcbfba4fe55f"
      },
      "execution_count": null,
      "outputs": [
        {
          "output_type": "stream",
          "name": "stdout",
          "text": [
            "Thanapong\n"
          ]
        }
      ]
    },
    {
      "cell_type": "code",
      "source": [
        "b"
      ],
      "metadata": {
        "id": "85GUuzgBXfbc"
      },
      "execution_count": null,
      "outputs": []
    },
    {
      "cell_type": "code",
      "source": [
        "def print_name(name):   # ตัวอย่าง function ที่ มีครบทุกส่วน\n",
        "    st = f'ชื่อ {name}'\n",
        "    return st"
      ],
      "metadata": {
        "id": "IoDxvK_LWo0E"
      },
      "execution_count": null,
      "outputs": []
    },
    {
      "cell_type": "code",
      "source": [
        "print_name('stat')"
      ],
      "metadata": {
        "colab": {
          "base_uri": "https://localhost:8080/",
          "height": 56
        },
        "id": "ZgOS8VeoW_B_",
        "outputId": "1e2e8003-823b-4a39-f4e4-2af04d3e387e"
      },
      "execution_count": null,
      "outputs": [
        {
          "output_type": "execute_result",
          "data": {
            "text/plain": [
              "'ชื่อ stat'"
            ],
            "application/vnd.google.colaboratory.intrinsic+json": {
              "type": "string"
            }
          },
          "metadata": {},
          "execution_count": 16
        }
      ]
    },
    {
      "cell_type": "code",
      "source": [
        "a = print_name('stat')"
      ],
      "metadata": {
        "id": "XizFGc4yXO4v"
      },
      "execution_count": null,
      "outputs": []
    },
    {
      "cell_type": "code",
      "source": [
        "a"
      ],
      "metadata": {
        "colab": {
          "base_uri": "https://localhost:8080/",
          "height": 56
        },
        "id": "uxY0bP_3XUza",
        "outputId": "7b36102c-466a-4d6d-f91d-bab9c98dd877"
      },
      "execution_count": null,
      "outputs": [
        {
          "output_type": "execute_result",
          "data": {
            "text/plain": [
              "'ชื่อ stat'"
            ],
            "application/vnd.google.colaboratory.intrinsic+json": {
              "type": "string"
            }
          },
          "metadata": {},
          "execution_count": 18
        }
      ]
    },
    {
      "cell_type": "code",
      "metadata": {
        "id": "n706WULobPqc"
      },
      "source": [
        "def print_fullname(surname,ID,name):        # ตัวอย่าง function ที่ มี input หลายตัว กับ output 1 ตัว\n",
        "    st = f'ชื่อ {name} นามสกุล {surname} รหัส {ID}'\n",
        "    return st"
      ],
      "execution_count": null,
      "outputs": []
    },
    {
      "cell_type": "code",
      "metadata": {
        "colab": {
          "base_uri": "https://localhost:8080/",
          "height": 56
        },
        "id": "muh0pi_Gkym8",
        "outputId": "03f7e46b-7dd9-49f7-9c37-ace9da6de53c"
      },
      "source": [
        "print_fullname('อินทระ','66xxxxxx','ธนพงศ์')"
      ],
      "execution_count": null,
      "outputs": [
        {
          "output_type": "execute_result",
          "data": {
            "text/plain": [
              "'ชื่อ ธนพงศ์ นามสกุล อินทระ รหัส 66xxxxxx'"
            ],
            "application/vnd.google.colaboratory.intrinsic+json": {
              "type": "string"
            }
          },
          "metadata": {},
          "execution_count": 23
        }
      ]
    },
    {
      "cell_type": "code",
      "source": [
        "print_name(name='กาญจนา',surname='ประสาคุณ',ID='603021855-2')"
      ],
      "metadata": {
        "colab": {
          "base_uri": "https://localhost:8080/",
          "height": 56
        },
        "id": "vxooaHuHVTDJ",
        "outputId": "25d27066-d51d-471b-f2df-e71d92bc0faf"
      },
      "execution_count": null,
      "outputs": [
        {
          "output_type": "execute_result",
          "data": {
            "text/plain": [
              "'ชื่อ กาญจนา นามสกุล ประสาคุณ รหัส 603021855-2'"
            ],
            "application/vnd.google.colaboratory.intrinsic+json": {
              "type": "string"
            }
          },
          "metadata": {},
          "execution_count": 6
        }
      ]
    },
    {
      "cell_type": "markdown",
      "metadata": {
        "id": "tSV-FUQBpx0i"
      },
      "source": [
        "ฟังก์ชั่นไม่จำเป็นต้องมี output"
      ]
    },
    {
      "cell_type": "code",
      "metadata": {
        "id": "loNAFSvLo5dC"
      },
      "source": [
        "def print_fullname2(surname,ID,name):\n",
        "    st = f'ชื่อ {name} นามสกุล {surname} รหัส {ID}'\n",
        "    print(st)"
      ],
      "execution_count": null,
      "outputs": []
    },
    {
      "cell_type": "code",
      "metadata": {
        "colab": {
          "base_uri": "https://localhost:8080/"
        },
        "id": "JE88oCj8o_j_",
        "outputId": "9ce8c58c-465c-429b-ba25-942bd8839f01"
      },
      "source": [
        "print_name2(name='กาญจนา',surname='ประสาคุณ',ID='603021855-2')"
      ],
      "execution_count": null,
      "outputs": [
        {
          "output_type": "stream",
          "name": "stdout",
          "text": [
            "ชื่อ กาญจนา นามสกุล ประสาคุณ รหัส 603021855-2\n"
          ]
        }
      ]
    },
    {
      "cell_type": "markdown",
      "source": [
        "### ข้อแตกต่างระหว่าง function ที่มีและไม่มี output"
      ],
      "metadata": {
        "id": "dW328wxLWauv"
      }
    },
    {
      "cell_type": "code",
      "source": [
        "out_printname1 = print_fullname(name='กาญจนา',surname='ประสาคุณ',ID='603021855-2') # มี output\n",
        "print(out_printname1)"
      ],
      "metadata": {
        "colab": {
          "base_uri": "https://localhost:8080/"
        },
        "id": "Ae6C6-DTWFOD",
        "outputId": "972657a9-ec3b-449e-affa-95584785a921"
      },
      "execution_count": null,
      "outputs": [
        {
          "output_type": "stream",
          "name": "stdout",
          "text": [
            "ชื่อ กาญจนา นามสกุล ประสาคุณ รหัส 603021855-2\n"
          ]
        }
      ]
    },
    {
      "cell_type": "code",
      "source": [
        "out_printname1"
      ],
      "metadata": {
        "colab": {
          "base_uri": "https://localhost:8080/",
          "height": 56
        },
        "id": "yPtH94N0WtsE",
        "outputId": "1d6db60b-609d-4b24-93da-cbab602ac4e4"
      },
      "execution_count": null,
      "outputs": [
        {
          "output_type": "execute_result",
          "data": {
            "text/plain": [
              "'ชื่อ กาญจนา นามสกุล ประสาคุณ รหัส 603021855-2'"
            ],
            "application/vnd.google.colaboratory.intrinsic+json": {
              "type": "string"
            }
          },
          "metadata": {},
          "execution_count": 28
        }
      ]
    },
    {
      "cell_type": "code",
      "source": [
        "out_printname2 = print_fullname2(name='กาญจนา',surname='ประสาคุณ',ID='603021855-2')  # ไม่มี output"
      ],
      "metadata": {
        "colab": {
          "base_uri": "https://localhost:8080/"
        },
        "id": "AbT5pKVYWRBn",
        "outputId": "22c5ecb4-32d2-4506-ab39-7e1449cd09dc"
      },
      "execution_count": null,
      "outputs": [
        {
          "output_type": "stream",
          "name": "stdout",
          "text": [
            "ชื่อ กาญจนา นามสกุล ประสาคุณ รหัส 603021855-2\n"
          ]
        }
      ]
    },
    {
      "cell_type": "code",
      "source": [
        "print(out_printname2)"
      ],
      "metadata": {
        "colab": {
          "base_uri": "https://localhost:8080/"
        },
        "id": "1SGVl6H-Y7iY",
        "outputId": "eede0f64-b952-4bca-d853-8b1fdfa078c4"
      },
      "execution_count": null,
      "outputs": [
        {
          "output_type": "stream",
          "name": "stdout",
          "text": [
            "None\n"
          ]
        }
      ]
    },
    {
      "cell_type": "markdown",
      "metadata": {
        "id": "JF4RdyEBqPyl"
      },
      "source": [
        "ฟังก์ชั่นไม่จำเป็นต้องมี input"
      ]
    },
    {
      "cell_type": "code",
      "metadata": {
        "id": "LNb_o_ZXo_gh"
      },
      "source": [
        "def Pi():\n",
        "    return 3.14159265359"
      ],
      "execution_count": null,
      "outputs": []
    },
    {
      "cell_type": "code",
      "metadata": {
        "colab": {
          "base_uri": "https://localhost:8080/"
        },
        "id": "htN6zLbFo_dr",
        "outputId": "f588d994-6ab1-401b-de64-b16d9db2f781"
      },
      "source": [
        "Pi()*(2**2) # หาพื้นที่ของวงกลมที่มีรัศมีเท่ากับ Pi * r^2"
      ],
      "execution_count": null,
      "outputs": [
        {
          "output_type": "execute_result",
          "data": {
            "text/plain": [
              "12.56637061436"
            ]
          },
          "metadata": {},
          "execution_count": 33
        }
      ]
    },
    {
      "cell_type": "markdown",
      "metadata": {
        "id": "ywc0Ho-_rUTu"
      },
      "source": [
        "## เราสามารถกำหนดค่า default ให้กับ input ของฟังก์ชั่นได้"
      ]
    },
    {
      "cell_type": "markdown",
      "metadata": {
        "id": "y_74dHkjxS7f"
      },
      "source": [
        "input ของ function ใน python มีสองแบบ input ที่จำเป็นต้องใส่ กับ input ที่ไม่จำเป็นต้องใส่ (มีค่า default)\n",
        "\n",
        "เราต้องเรียง input ที่จำเป็นต้องใส่ขึ้นก่อน"
      ]
    },
    {
      "cell_type": "code",
      "metadata": {
        "id": "0Lrh-6mAo_bA"
      },
      "source": [
        "def print_2lines_default(name,surname,ID,grade='F'):\n",
        "    st = f'ชื่อ {name} นามสกุล {surname} รหัส {ID}'\n",
        "    print (st)\n",
        "    st2=f'เกรดวิชา Data Viz >>> {grade}'\n",
        "    print(st2)"
      ],
      "execution_count": null,
      "outputs": []
    },
    {
      "cell_type": "code",
      "metadata": {
        "colab": {
          "base_uri": "https://localhost:8080/"
        },
        "id": "ZH31VIjko_WP",
        "outputId": "f5b0940a-f46d-4241-b39c-c74c4740c439"
      },
      "source": [
        "print_2lines_default('รุ่งแสง','กองสุข','663020292-1')"
      ],
      "execution_count": null,
      "outputs": [
        {
          "output_type": "stream",
          "name": "stdout",
          "text": [
            "ชื่อ รุ่งแสง นามสกุล กองสุข รหัส 663020292-1\n",
            "เกรดวิชา Data Viz >>> F\n"
          ]
        }
      ]
    },
    {
      "cell_type": "code",
      "metadata": {
        "colab": {
          "base_uri": "https://localhost:8080/"
        },
        "id": "FKGr2Iyuo_S2",
        "outputId": "a01e7cac-959a-436e-b5eb-af5162a3e13e"
      },
      "source": [
        "print_2lines_default('รุ่งแสง','กองสุข','663020292-1','A')"
      ],
      "execution_count": null,
      "outputs": [
        {
          "output_type": "stream",
          "name": "stdout",
          "text": [
            "ชื่อ รุ่งแสง นามสกุล กองสุข รหัส 663020292-1\n",
            "เกรดวิชา Data Viz >>> A\n"
          ]
        }
      ]
    },
    {
      "cell_type": "code",
      "source": [
        "print_2lines_default('ธันยาการต์','พวงมาลัย')"
      ],
      "metadata": {
        "colab": {
          "base_uri": "https://localhost:8080/",
          "height": 158
        },
        "id": "cLGa_pO1Zv1U",
        "outputId": "5bf453c3-5508-4f83-9975-0362c3db20a8"
      },
      "execution_count": null,
      "outputs": [
        {
          "output_type": "error",
          "ename": "TypeError",
          "evalue": "print_2lines_default() missing 1 required positional argument: 'ID'",
          "traceback": [
            "\u001b[0;31m---------------------------------------------------------------------------\u001b[0m",
            "\u001b[0;31mTypeError\u001b[0m                                 Traceback (most recent call last)",
            "\u001b[0;32m/tmp/ipython-input-38-2908973391.py\u001b[0m in \u001b[0;36m<cell line: 0>\u001b[0;34m()\u001b[0m\n\u001b[0;32m----> 1\u001b[0;31m \u001b[0mprint_2lines_default\u001b[0m\u001b[0;34m(\u001b[0m\u001b[0;34m'ธันยาการต์'\u001b[0m\u001b[0;34m,\u001b[0m\u001b[0;34m'พวงมาลัย'\u001b[0m\u001b[0;34m)\u001b[0m\u001b[0;34m\u001b[0m\u001b[0;34m\u001b[0m\u001b[0m\n\u001b[0m",
            "\u001b[0;31mTypeError\u001b[0m: print_2lines_default() missing 1 required positional argument: 'ID'"
          ]
        }
      ]
    },
    {
      "cell_type": "markdown",
      "source": [
        "# Quiz5\n",
        "เขียน function ของ HW2\n",
        "\n",
        "commit \"quiz5\""
      ],
      "metadata": {
        "id": "Alh7JMwDa1k1"
      }
    },
    {
      "cell_type": "markdown",
      "source": [
        "# Quiz6\n",
        "เขียน function ของ HW2 -> มีการใช้ ค่า default ของ input โดยถ้าวันที่กรอกเป็นวันเดียวกันให้ไม่ต้องกรอกเลยหรือกรอกแค่ 1 ตัว\n",
        "\n",
        "commit \"quiz6\""
      ],
      "metadata": {
        "id": "_UbG8M_Mf-lj"
      }
    },
    {
      "cell_type": "code",
      "source": [
        "# prompt: เขียนฟังก์ชั่นคำนวณวินาที จาก เวลาที่ใส่เข้ามา\n",
        "\n",
        "def calculate_seconds(hours, minutes, seconds):\n",
        "  \"\"\"\n",
        "  คำนวณวินาทีรวมจากชั่วโมง นาที และวินาทีที่กำหนด\n",
        "\n",
        "  Args:\n",
        "    hours: จำนวนชั่วโมง\n",
        "    minutes: จำนวนนาที\n",
        "    seconds: จำนวนวินาที\n",
        "\n",
        "  Returns:\n",
        "    จำนวนวินาทีทั้งหมด\n",
        "  \"\"\"\n",
        "  total_seconds = (hours * 3600) + (minutes * 60) + seconds\n",
        "  return total_seconds\n",
        "\n",
        "# ตัวอย่างการใช้งาน\n",
        "hours = 1\n",
        "minutes = 30\n",
        "seconds = 45\n",
        "total = calculate_seconds(hours, minutes, seconds)\n",
        "print(f\"{hours} ชั่วโมง {minutes} นาที {seconds} วินาที เท่ากับ {total} วินาที\")"
      ],
      "metadata": {
        "id": "h7EIgdp_a_M8"
      },
      "execution_count": null,
      "outputs": []
    },
    {
      "cell_type": "markdown",
      "source": [
        "#inspect existing function\n",
        "\n",
        "- https://www.w3schools.com/python/ref_func_print.asp\n",
        "\n",
        "- https://pandas.pydata.org/docs/reference/api/pandas.DataFrame.fillna.html"
      ],
      "metadata": {
        "id": "kb25fxzpgXsp"
      }
    },
    {
      "cell_type": "code",
      "source": [
        "print('abc','def')"
      ],
      "metadata": {
        "colab": {
          "base_uri": "https://localhost:8080/"
        },
        "id": "lhE86SIUa_Jt",
        "outputId": "3dc8aa10-d404-4079-91d2-dfd4b3a14fa5"
      },
      "execution_count": null,
      "outputs": [
        {
          "output_type": "stream",
          "name": "stdout",
          "text": [
            "abc def\n"
          ]
        }
      ]
    },
    {
      "cell_type": "code",
      "source": [
        "print('abc','def',sep='+')"
      ],
      "metadata": {
        "colab": {
          "base_uri": "https://localhost:8080/"
        },
        "id": "_VDg-OyRa_Hh",
        "outputId": "9eac1efb-2a76-4ff9-d00b-4f77a76102a6"
      },
      "execution_count": null,
      "outputs": [
        {
          "output_type": "stream",
          "name": "stdout",
          "text": [
            "abc+def\n"
          ]
        }
      ]
    },
    {
      "cell_type": "code",
      "source": [],
      "metadata": {
        "id": "eSZh5ak-a_Ew"
      },
      "execution_count": null,
      "outputs": []
    },
    {
      "cell_type": "code",
      "source": [],
      "metadata": {
        "id": "AIuwSifNa_CC"
      },
      "execution_count": null,
      "outputs": []
    },
    {
      "cell_type": "code",
      "source": [],
      "metadata": {
        "id": "SItcrFAUa---"
      },
      "execution_count": null,
      "outputs": []
    },
    {
      "cell_type": "markdown",
      "metadata": {
        "id": "UB5fTAr3bPqg"
      },
      "source": [
        "# LOOP การวนซ้ำ"
      ]
    },
    {
      "cell_type": "markdown",
      "metadata": {
        "id": "gpIwjDjg0gfJ"
      },
      "source": [
        "for เป็นคำที่ใช้บอก python ว่าเรากำลังเขียน loop\n",
        "โดย for จะวนดึงสมาชิกจาก ```listA``` มาทำ process ```do_something```"
      ]
    },
    {
      "cell_type": "markdown",
      "metadata": {
        "id": "6XS2wO4_bPqg"
      },
      "source": [
        "```python\n",
        "    for each_member in listA :\n",
        "        do_something\n",
        "```"
      ]
    },
    {
      "cell_type": "markdown",
      "metadata": {
        "id": "d7kQ2AEcbPqg"
      },
      "source": [
        "#### คำสั่ง for เป็นคำสั่งวนซ้ำที่ใช้ควบคุมการทำงานซ้ำๆ ในจำนวนรอบที่แน่นอน"
      ]
    },
    {
      "cell_type": "code",
      "metadata": {
        "colab": {
          "base_uri": "https://localhost:8080/"
        },
        "id": "NcT-s7TEbPqg",
        "outputId": "0e0ca8ba-804c-424f-dcbd-9d4369be701f"
      },
      "source": [
        "for i in [1,2,3] :\n",
        "    o = i**2\n",
        "    print (f'this member = {i} after process = {o}')"
      ],
      "execution_count": null,
      "outputs": [
        {
          "output_type": "stream",
          "name": "stdout",
          "text": [
            "this member = 1 after process = 1\n",
            "this member = 2 after process = 4\n",
            "this member = 3 after process = 9\n"
          ]
        }
      ]
    },
    {
      "cell_type": "markdown",
      "metadata": {
        "id": "YbnFaiU2bPqg"
      },
      "source": [
        "#### ตัวอย่างการใช้คำสั่ง for ในการวนซ้ำค่าของ i เมื่อ i คือ 'Thanapong' และคำสั่ง print(f'{i} -> /') เพื่อกำหนดให้ผลลัพธ์แสดงสัญลักษณ์ -> /  จากนั้นเพิ่มคำสั่ง print(' ') อีกครั้งเพื่อให้ผลลัพธ์มีการเว้นวรรค¶"
      ]
    },
    {
      "cell_type": "code",
      "metadata": {
        "id": "kstoI_CEbPqh",
        "outputId": "05424cc0-90b1-4aa6-ef93-1a867f786310",
        "colab": {
          "base_uri": "https://localhost:8080/"
        }
      },
      "source": [
        "for i in 'Thanapong':\n",
        "    print(i,end = '-> /\\n')"
      ],
      "execution_count": null,
      "outputs": [
        {
          "output_type": "stream",
          "name": "stdout",
          "text": [
            "T-> /\n",
            "h-> /\n",
            "a-> /\n",
            "n-> /\n",
            "a-> /\n",
            "p-> /\n",
            "o-> /\n",
            "n-> /\n",
            "g-> /\n"
          ]
        }
      ]
    },
    {
      "cell_type": "code",
      "metadata": {
        "id": "mQmh0Ip-V8qR",
        "outputId": "ad21a13b-9b7b-4bf1-b6f3-49a1c86a58a9",
        "colab": {
          "base_uri": "https://localhost:8080/"
        }
      },
      "source": [
        "for i in 'Thanapong':\n",
        "    print(f'{i} -> / ' ,end = '') #สั่งให้ print แบบ ไม่เว้นบรรทัด"
      ],
      "execution_count": null,
      "outputs": [
        {
          "output_type": "stream",
          "name": "stdout",
          "text": [
            "T -> / h -> / a -> / n -> / a -> / p -> / o -> / n -> / g -> / "
          ]
        }
      ]
    },
    {
      "cell_type": "markdown",
      "metadata": {
        "id": "3_I0IHOqXMIr"
      },
      "source": [
        "## สร้าง list ตัวเลขแบบอัตโนมัติ  range()"
      ]
    },
    {
      "cell_type": "code",
      "metadata": {
        "id": "ensAuLXBW-0P",
        "outputId": "e4d2ea12-2b1d-47c8-eb73-61bc76b565ee",
        "colab": {
          "base_uri": "https://localhost:8080/"
        }
      },
      "source": [
        "range5_output = range(5)\n",
        "print(list(range5_output))"
      ],
      "execution_count": null,
      "outputs": [
        {
          "output_type": "stream",
          "name": "stdout",
          "text": [
            "[0, 1, 2, 3, 4]\n"
          ]
        }
      ]
    },
    {
      "cell_type": "code",
      "metadata": {
        "id": "r8JXggPKXrEx",
        "outputId": "ff11f4e9-b481-4129-9f20-a4c056113914",
        "colab": {
          "base_uri": "https://localhost:8080/"
        }
      },
      "source": [
        "for i in range(100):\n",
        "    print('งง',end=' ')"
      ],
      "execution_count": null,
      "outputs": [
        {
          "output_type": "stream",
          "name": "stdout",
          "text": [
            "งง งง งง งง งง งง งง งง งง งง งง งง งง งง งง งง งง งง งง งง งง งง งง งง งง งง งง งง งง งง งง งง งง งง งง งง งง งง งง งง งง งง งง งง งง งง งง งง งง งง งง งง งง งง งง งง งง งง งง งง งง งง งง งง งง งง งง งง งง งง งง งง งง งง งง งง งง งง งง งง งง งง งง งง งง งง งง งง งง งง งง งง งง งง งง งง งง งง งง งง "
          ]
        }
      ]
    },
    {
      "cell_type": "code",
      "metadata": {
        "id": "RLvhNqw8YpKa",
        "outputId": "927dbce9-9ed6-433b-c545-56cae1b28bdd",
        "colab": {
          "base_uri": "https://localhost:8080/"
        }
      },
      "source": [
        "list(range(1,11)) #เริ่มต้นเป็นวงทึบ จบเป็นวงกลมโปร่ง เหมือน list slicing"
      ],
      "execution_count": null,
      "outputs": [
        {
          "output_type": "execute_result",
          "data": {
            "text/plain": [
              "[1, 2, 3, 4, 5, 6, 7, 8, 9, 10]"
            ]
          },
          "metadata": {},
          "execution_count": 8
        }
      ]
    },
    {
      "cell_type": "code",
      "metadata": {
        "id": "MqXQ9NLGcW-r",
        "outputId": "ba682385-282d-4b89-e505-7b6b8741c80f",
        "colab": {
          "base_uri": "https://localhost:8080/"
        }
      },
      "source": [
        "list(range(-3,20,4))"
      ],
      "execution_count": null,
      "outputs": [
        {
          "output_type": "execute_result",
          "data": {
            "text/plain": [
              "[-3, 1, 5, 9, 13, 17]"
            ]
          },
          "metadata": {},
          "execution_count": 9
        }
      ]
    },
    {
      "cell_type": "markdown",
      "source": [
        "## วนลูปโดยสนใจทั้งสมาชิกและลำดับ"
      ],
      "metadata": {
        "id": "J8idmkS-_5eH"
      }
    },
    {
      "cell_type": "code",
      "source": [
        "index = 0\n",
        "for i in 'Thanapong':\n",
        "    print(f'สมาชิกคือ {i} เป็นลำดับที่ {index}')\n",
        "    index += 1"
      ],
      "metadata": {
        "id": "xRDqiyrDATtj",
        "outputId": "a8d9a384-44f3-436a-f993-ab5b214efc8a",
        "colab": {
          "base_uri": "https://localhost:8080/"
        }
      },
      "execution_count": null,
      "outputs": [
        {
          "output_type": "stream",
          "name": "stdout",
          "text": [
            "สมาชิกคือ T เป็นลำดับที่ 0\n",
            "สมาชิกคือ h เป็นลำดับที่ 1\n",
            "สมาชิกคือ a เป็นลำดับที่ 2\n",
            "สมาชิกคือ n เป็นลำดับที่ 3\n",
            "สมาชิกคือ a เป็นลำดับที่ 4\n",
            "สมาชิกคือ p เป็นลำดับที่ 5\n",
            "สมาชิกคือ o เป็นลำดับที่ 6\n",
            "สมาชิกคือ n เป็นลำดับที่ 7\n",
            "สมาชิกคือ g เป็นลำดับที่ 8\n"
          ]
        }
      ]
    },
    {
      "cell_type": "code",
      "source": [
        "for index, i in enumerate('Thanapong'):\n",
        "    print(f'สมาชิกคือ {i} เป็นลำดับที่ {index}')"
      ],
      "metadata": {
        "id": "MeGo4IsJA1yi",
        "outputId": "8b28a887-796d-4caa-c125-0150888f661e",
        "colab": {
          "base_uri": "https://localhost:8080/"
        }
      },
      "execution_count": null,
      "outputs": [
        {
          "output_type": "stream",
          "name": "stdout",
          "text": [
            "สมาชิกคือ T เป็นลำดับที่ 0\n",
            "สมาชิกคือ h เป็นลำดับที่ 1\n",
            "สมาชิกคือ a เป็นลำดับที่ 2\n",
            "สมาชิกคือ n เป็นลำดับที่ 3\n",
            "สมาชิกคือ a เป็นลำดับที่ 4\n",
            "สมาชิกคือ p เป็นลำดับที่ 5\n",
            "สมาชิกคือ o เป็นลำดับที่ 6\n",
            "สมาชิกคือ n เป็นลำดับที่ 7\n",
            "สมาชิกคือ g เป็นลำดับที่ 8\n"
          ]
        }
      ]
    },
    {
      "cell_type": "markdown",
      "metadata": {
        "id": "vPcR4tJebPqi"
      },
      "source": [
        "## loop in loop\n",
        "#### สามารถใช้ for loop ซ้อนกันสองรอบได้¶"
      ]
    },
    {
      "cell_type": "code",
      "metadata": {
        "id": "TKRcpd5DbPqi",
        "outputId": "ac6c3136-9f19-4d12-cdb6-209c6a647a64",
        "colab": {
          "base_uri": "https://localhost:8080/"
        }
      },
      "source": [
        "for name1 in  range(2,5): #(2, 3, 4)\n",
        "    print(f'now name1 = {name1}')\n",
        "    for name2 in  range(1,13):\n",
        "        print('  ', name1,' x ',name2,' = ',name1*name2)\n",
        "    print('the inner loop is end')"
      ],
      "execution_count": null,
      "outputs": [
        {
          "output_type": "stream",
          "name": "stdout",
          "text": [
            "now name1 = 2\n",
            "   2  x  1  =  2\n",
            "   2  x  2  =  4\n",
            "   2  x  3  =  6\n",
            "   2  x  4  =  8\n",
            "   2  x  5  =  10\n",
            "   2  x  6  =  12\n",
            "   2  x  7  =  14\n",
            "   2  x  8  =  16\n",
            "   2  x  9  =  18\n",
            "   2  x  10  =  20\n",
            "   2  x  11  =  22\n",
            "   2  x  12  =  24\n",
            "the inner loop is end\n",
            "now name1 = 3\n",
            "   3  x  1  =  3\n",
            "   3  x  2  =  6\n",
            "   3  x  3  =  9\n",
            "   3  x  4  =  12\n",
            "   3  x  5  =  15\n",
            "   3  x  6  =  18\n",
            "   3  x  7  =  21\n",
            "   3  x  8  =  24\n",
            "   3  x  9  =  27\n",
            "   3  x  10  =  30\n",
            "   3  x  11  =  33\n",
            "   3  x  12  =  36\n",
            "the inner loop is end\n",
            "now name1 = 4\n",
            "   4  x  1  =  4\n",
            "   4  x  2  =  8\n",
            "   4  x  3  =  12\n",
            "   4  x  4  =  16\n",
            "   4  x  5  =  20\n",
            "   4  x  6  =  24\n",
            "   4  x  7  =  28\n",
            "   4  x  8  =  32\n",
            "   4  x  9  =  36\n",
            "   4  x  10  =  40\n",
            "   4  x  11  =  44\n",
            "   4  x  12  =  48\n",
            "the inner loop is end\n"
          ]
        }
      ]
    },
    {
      "cell_type": "markdown",
      "source": [
        "# Quiz 7 วนลูป แสดงค่า ตัวเลขออกมาเป็นสามเหลี่ยม ตามตัวอย่างนี้\n",
        "\n",
        "ex:\n",
        "\n",
        "1\n",
        "\n",
        "2 4\n",
        "\n",
        "3 6 9\n",
        "\n",
        "4 8 12 16\n",
        "\n",
        "5 10 15 20 25"
      ],
      "metadata": {
        "id": "VeNRPFGoCkEp"
      }
    },
    {
      "cell_type": "code",
      "source": [
        "# Quiz 7 วนลูป แสดงค่า ตัวเลขออกมาเป็นสามเหลี่ยม ตามตัวอย่างนี้\n",
        "# ex:\n",
        "# 1\n",
        "# 2 4\n",
        "# 3 6 9\n",
        "# 4 8 12 16\n",
        "# 5 10 15 20 25\n",
        "\n",
        "for i in range(1, 6):\n",
        "  for j in range(1, i + 1):\n",
        "    print(i * j, end=' ')\n",
        "  print()"
      ],
      "metadata": {
        "id": "JFdlsAVgCYt0",
        "outputId": "90c88d66-b38a-44c9-d3af-b362f40d4a24",
        "colab": {
          "base_uri": "https://localhost:8080/"
        }
      },
      "execution_count": 4,
      "outputs": [
        {
          "output_type": "stream",
          "name": "stdout",
          "text": [
            "1 \n",
            "2 4 \n",
            "3 6 9 \n",
            "4 8 12 16 \n",
            "5 10 15 20 25 \n"
          ]
        }
      ]
    },
    {
      "cell_type": "markdown",
      "metadata": {
        "id": "7-FAZit8bPqi"
      },
      "source": [
        "## loop in function\n",
        "#### การวนลูปในฟังก์ชั่น¶"
      ]
    },
    {
      "cell_type": "code",
      "metadata": {
        "id": "S0r5yhbDbPqi"
      },
      "source": [
        "def print_feelings(I,friendS,feeling = 'คิดถึง'):\n",
        "    for friend in friendS:\n",
        "        print(f'{I} {feeling} {friend}')"
      ],
      "execution_count": null,
      "outputs": []
    },
    {
      "cell_type": "code",
      "metadata": {
        "id": "_oVKj4SRfGS6"
      },
      "source": [
        "list_friends = ['พี่บูม','ดายน์','แตงโม','ฝน','พี่เจ็ท','น้องแคมป์']"
      ],
      "execution_count": null,
      "outputs": []
    },
    {
      "cell_type": "code",
      "metadata": {
        "id": "RepVZqu6bPqi",
        "outputId": "3153d88c-bb4e-44af-e3e8-1944d1a7d788",
        "colab": {
          "base_uri": "https://localhost:8080/"
        }
      },
      "source": [
        "print_feelings('เจมส์',list_friends)"
      ],
      "execution_count": null,
      "outputs": [
        {
          "output_type": "stream",
          "name": "stdout",
          "text": [
            "เจมส์ คิดถึง พี่บูม\n",
            "เจมส์ คิดถึง ดายน์\n",
            "เจมส์ คิดถึง แตงโม\n",
            "เจมส์ คิดถึง ฝน\n",
            "เจมส์ คิดถึง พี่เจ็ท\n",
            "เจมส์ คิดถึง น้องแคมป์\n"
          ]
        }
      ]
    },
    {
      "cell_type": "code",
      "metadata": {
        "id": "P20pDnVaf2vK",
        "outputId": "cb59f42c-9fb9-4d1b-8b99-58294130d44d",
        "colab": {
          "base_uri": "https://localhost:8080/"
        }
      },
      "source": [
        "print_feelings('เจมส์',list_friends,feeling='รัก')"
      ],
      "execution_count": null,
      "outputs": [
        {
          "output_type": "stream",
          "name": "stdout",
          "text": [
            "เจมส์ รัก พี่บูม\n",
            "เจมส์ รัก ดายน์\n",
            "เจมส์ รัก แตงโม\n",
            "เจมส์ รัก ฝน\n",
            "เจมส์ รัก พี่เจ็ท\n",
            "เจมส์ รัก น้องแคมป์\n"
          ]
        }
      ]
    },
    {
      "cell_type": "code",
      "metadata": {
        "id": "SzHamL8JhKG4",
        "outputId": "19fac0b6-f144-486a-8200-8e246090c9d1",
        "colab": {
          "base_uri": "https://localhost:8080/"
        }
      },
      "source": [
        "print_feelings('เจมส์',list_friends,'รัก')"
      ],
      "execution_count": null,
      "outputs": [
        {
          "output_type": "stream",
          "name": "stdout",
          "text": [
            "เจมส์ รัก พี่บูม\n",
            "เจมส์ รัก ดายน์\n",
            "เจมส์ รัก แตงโม\n",
            "เจมส์ รัก ฝน\n",
            "เจมส์ รัก พี่เจ็ท\n",
            "เจมส์ รัก น้องแคมป์\n"
          ]
        }
      ]
    },
    {
      "cell_type": "markdown",
      "source": [
        "จบ 24 มิย 67"
      ],
      "metadata": {
        "id": "GJAB4hnvnAX8"
      }
    },
    {
      "cell_type": "markdown",
      "source": [
        "## Dictionary (Data Structure)\n",
        "\n",
        "โครงสร้างข้อมูลที่จัดเก็บข้อมูลโดยการอ้างอิงโดย text\n",
        "\n",
        "วงเล็บ ```{``` ```}``` Curly Brackets"
      ],
      "metadata": {
        "id": "VreW55vmVRcb"
      }
    },
    {
      "cell_type": "code",
      "source": [
        "Ex_dict_A = {'memberA':[1,2,3],'memberB':8,'memberC':'abc'}"
      ],
      "metadata": {
        "id": "i-oH98ilV1RV"
      },
      "execution_count": null,
      "outputs": []
    },
    {
      "cell_type": "code",
      "source": [
        "Ex_dict_A"
      ],
      "metadata": {
        "colab": {
          "base_uri": "https://localhost:8080/"
        },
        "id": "kIwdnWuqWr58",
        "outputId": "694d94ad-5ac6-47a8-e6d6-01f62d578d9b"
      },
      "execution_count": null,
      "outputs": [
        {
          "output_type": "execute_result",
          "data": {
            "text/plain": [
              "{'memberA': [1, 2, 3], 'memberB': 8, 'memberC': 'abc'}"
            ]
          },
          "metadata": {},
          "execution_count": 2
        }
      ]
    },
    {
      "cell_type": "code",
      "source": [
        "Ex_dict_A['memberA']"
      ],
      "metadata": {
        "colab": {
          "base_uri": "https://localhost:8080/"
        },
        "id": "J4yy6oaXW4he",
        "outputId": "153013bf-f9bd-4cd9-a182-bf13744d02c7"
      },
      "execution_count": null,
      "outputs": [
        {
          "output_type": "execute_result",
          "data": {
            "text/plain": [
              "[1, 2, 3]"
            ]
          },
          "metadata": {},
          "execution_count": 5
        }
      ]
    },
    {
      "cell_type": "code",
      "source": [
        "Ex_dict_A['memberA'][1]"
      ],
      "metadata": {
        "colab": {
          "base_uri": "https://localhost:8080/"
        },
        "id": "cZjtUbdnXZK-",
        "outputId": "0eaa0d49-1a2a-41d6-bb62-7c3252df977f"
      },
      "execution_count": null,
      "outputs": [
        {
          "output_type": "execute_result",
          "data": {
            "text/plain": [
              "2"
            ]
          },
          "metadata": {},
          "execution_count": 6
        }
      ]
    },
    {
      "cell_type": "markdown",
      "metadata": {
        "id": "vwK7RmRJbPqj"
      },
      "source": [
        "### looping in dict\n",
        "#### ทำการวนลูปในค่า dict โดยที่เรากำหนดตัว key และvalueขึ้นมา ได้ดังนี้\n"
      ]
    },
    {
      "cell_type": "code",
      "metadata": {
        "id": "HI0F-4HobPqj",
        "outputId": "f5dff6b6-6102-4445-cc19-4574cf6790b2",
        "colab": {
          "base_uri": "https://localhost:8080/"
        }
      },
      "source": [
        "name_grade = {'พันทิพา' : 'B','ศุภนิตา' : 'C','ปนัดดา' : 'A','ทรงกลด' : 'F'}\n",
        "name_grade"
      ],
      "execution_count": null,
      "outputs": [
        {
          "output_type": "execute_result",
          "data": {
            "text/plain": [
              "{'พันทิพา': 'B', 'ศุภนิตา': 'C', 'ปนัดดา': 'A', 'ทรงกลด': 'F'}"
            ]
          },
          "metadata": {},
          "execution_count": 7
        }
      ]
    },
    {
      "cell_type": "code",
      "metadata": {
        "id": "jWf8aBmpbPqj",
        "outputId": "d19b353a-86f8-4dcc-e1d5-a5a0d233c332",
        "colab": {
          "base_uri": "https://localhost:8080/",
          "height": 56
        }
      },
      "source": [
        "name_grade['ปนัดดา']"
      ],
      "execution_count": null,
      "outputs": [
        {
          "output_type": "execute_result",
          "data": {
            "text/plain": [
              "'A'"
            ],
            "application/vnd.google.colaboratory.intrinsic+json": {
              "type": "string"
            }
          },
          "metadata": {},
          "execution_count": 8
        }
      ]
    },
    {
      "cell_type": "code",
      "source": [
        "name_grade.keys()"
      ],
      "metadata": {
        "colab": {
          "base_uri": "https://localhost:8080/"
        },
        "id": "0tXZc6kgYPgm",
        "outputId": "13096d92-02b7-4de1-9845-3552562916b2"
      },
      "execution_count": null,
      "outputs": [
        {
          "output_type": "execute_result",
          "data": {
            "text/plain": [
              "dict_keys(['พันทิพา', 'ศุภนิตา', 'ปนัดดา', 'ทรงกลด'])"
            ]
          },
          "metadata": {},
          "execution_count": 9
        }
      ]
    },
    {
      "cell_type": "code",
      "source": [
        "name_grade.values()"
      ],
      "metadata": {
        "colab": {
          "base_uri": "https://localhost:8080/"
        },
        "id": "zEqstk33YRxp",
        "outputId": "e01dc8af-865a-4ba3-809c-370371d8409e"
      },
      "execution_count": null,
      "outputs": [
        {
          "output_type": "execute_result",
          "data": {
            "text/plain": [
              "dict_values(['B', 'C', 'A', 'F'])"
            ]
          },
          "metadata": {},
          "execution_count": 10
        }
      ]
    },
    {
      "cell_type": "code",
      "metadata": {
        "scrolled": true,
        "id": "eDqhoebhbPqj",
        "outputId": "e3bed2bc-662c-4001-c6af-548dd9b7f0fc",
        "colab": {
          "base_uri": "https://localhost:8080/"
        }
      },
      "source": [
        "for i in name_grade.keys():\n",
        "    print(i)"
      ],
      "execution_count": null,
      "outputs": [
        {
          "output_type": "stream",
          "name": "stdout",
          "text": [
            "พันทิพา\n",
            "ศุภนิตา\n",
            "ปนัดดา\n",
            "ทรงกลด\n"
          ]
        }
      ]
    },
    {
      "cell_type": "code",
      "metadata": {
        "id": "Imvq4faObPqj",
        "outputId": "4debf4e7-78ed-431a-8b4a-61f4500d39a8",
        "colab": {
          "base_uri": "https://localhost:8080/"
        }
      },
      "source": [
        "for i in name_grade.keys():\n",
        "    print(f'{i} ได้เกรด {name_grade[i]}')"
      ],
      "execution_count": null,
      "outputs": [
        {
          "output_type": "stream",
          "name": "stdout",
          "text": [
            "พันทิพา ได้เกรด B\n",
            "ศุภนิตา ได้เกรด C\n",
            "ปนัดดา ได้เกรด A\n",
            "ทรงกลด ได้เกรด F\n"
          ]
        }
      ]
    },
    {
      "cell_type": "markdown",
      "source": [
        "## HW2 Example"
      ],
      "metadata": {
        "id": "CrnK1_WPaYv7"
      }
    },
    {
      "cell_type": "code",
      "source": [
        "time_list =  [\n",
        "    [\"18:09:10\", \"18:25:10\"],\n",
        "    [\"13:38:39\", \"23:54:39\"],\n",
        "    [\"16:49:58\", \"18:05:58\"],\n",
        "    [\"21:49:10\", \"22:24:10\"],\n",
        "    [\"08:52:21\", \"09:25:21\"],\n",
        "    [\"06:56:26\", \"07:49:26\"],\n",
        "    [\"12:08:05\", \"12:43:05\"],\n",
        "    [\"01:48:38\", \"07:18:38\"],\n",
        "    [\"08:51:21\", \"10:17:21\"],\n",
        "    [\"17:05:17\", \"18:09:17\"]]\n",
        "\n",
        "def time_to_second(time1,time2):\n",
        "    time1_list = time1.split(':')\n",
        "    time2_list = time2.split(':')\n",
        "    time1_sec = int(time1_list[0])*3600 + int(time1_list[1])*60 + int(time1_list[2])\n",
        "    time2_sec = int(time2_list[0])*3600 + int(time2_list[1])*60 + int(time2_list[2])\n",
        "    return(time2_sec - time1_sec)\n",
        "\n",
        "for time1,time2 in time_list:\n",
        "  diff_seconds = time_to_second(time1,time2)\n",
        "  print(f\"Time difference between {time1} - {time2} is {diff_seconds} seconds\")"
      ],
      "metadata": {
        "colab": {
          "base_uri": "https://localhost:8080/"
        },
        "id": "BqYhLFc5aYa2",
        "outputId": "825e1a7c-f359-44cc-9e02-160670dc983c"
      },
      "execution_count": null,
      "outputs": [
        {
          "output_type": "stream",
          "name": "stdout",
          "text": [
            "Time difference between 18:09:10 - 18:25:10 is 960 seconds\n",
            "Time difference between 13:38:39 - 23:54:39 is 36960 seconds\n",
            "Time difference between 16:49:58 - 18:05:58 is 4560 seconds\n",
            "Time difference between 21:49:10 - 22:24:10 is 2100 seconds\n",
            "Time difference between 08:52:21 - 09:25:21 is 1980 seconds\n",
            "Time difference between 06:56:26 - 07:49:26 is 3180 seconds\n",
            "Time difference between 12:08:05 - 12:43:05 is 2100 seconds\n",
            "Time difference between 01:48:38 - 07:18:38 is 19800 seconds\n",
            "Time difference between 08:51:21 - 10:17:21 is 5160 seconds\n",
            "Time difference between 17:05:17 - 18:09:17 is 3840 seconds\n"
          ]
        }
      ]
    },
    {
      "cell_type": "code",
      "source": [
        "time1 = \"18:09:10\"\n",
        "time2 = \"00:25:10\"\n",
        "diff_seconds = time_to_second(time1,time2)\n",
        "print(f\"Time difference between {time1} - {time2} is {diff_seconds} seconds\")"
      ],
      "metadata": {
        "colab": {
          "base_uri": "https://localhost:8080/"
        },
        "id": "lbz-CNPlbGYq",
        "outputId": "31befb8b-40ae-47b0-876d-a94e7ecfe760"
      },
      "execution_count": null,
      "outputs": [
        {
          "output_type": "stream",
          "name": "stdout",
          "text": [
            "Time difference between 18:09:10 - 00:25:10 is -63840 seconds\n"
          ]
        }
      ]
    },
    {
      "cell_type": "markdown",
      "metadata": {
        "id": "pLDGW8IobPqk"
      },
      "source": [
        "# Conditional statemet คือ ประโยคเงื่อนไข"
      ]
    },
    {
      "cell_type": "markdown",
      "source": [
        "ชนิดตัวแปรที่เกี่ยวข้อ Boolean (True,False)"
      ],
      "metadata": {
        "id": "TvK12jMwcVp8"
      }
    },
    {
      "cell_type": "code",
      "source": [
        "condition_1 = True\n",
        "condition_2 = False"
      ],
      "metadata": {
        "id": "JWxlKa-icUk6"
      },
      "execution_count": null,
      "outputs": []
    },
    {
      "cell_type": "markdown",
      "metadata": {
        "id": "8_-zCLkrbPqk"
      },
      "source": [
        "### การวนลูปโดยมีเงื่อนไขต่างๆมาเกี่ยวข้อง โดยมี pattern ดังนี้\n"
      ]
    },
    {
      "cell_type": "markdown",
      "metadata": {
        "id": "ZQuWb-bybPqk"
      },
      "source": [
        "```Python\n",
        "if condition1 :\n",
        "    do something\n",
        "elif condition2 :  #elif คือ else if\n",
        "    do another thing\n",
        "else:\n",
        "    do ...\n",
        "```\n",
        "    "
      ]
    },
    {
      "cell_type": "markdown",
      "metadata": {
        "id": "kUPdCRG7bPqk"
      },
      "source": [
        "## ==, !=,>=,<=,<,> Operator ของตัวเลข"
      ]
    },
    {
      "cell_type": "code",
      "source": [
        "def time_to_second(time1):\n",
        "    time1_list = time1.split(':')\n",
        "    time1_sec = int(time1_list[0])*3600 + int(time1_list[1])*60 + int(time1_list[2])\n",
        "    return time1_sec"
      ],
      "metadata": {
        "id": "9NIOIupSd_Zn"
      },
      "execution_count": null,
      "outputs": []
    },
    {
      "cell_type": "code",
      "source": [
        "time_list =  [\n",
        "    [\"18:09:10\", \"18:25:10\"],\n",
        "    [\"13:38:39\", \"23:54:39\"],[\"16:49:58\", \"18:05:58\"],\n",
        "    [\"21:49:10\", \"22:24:10\"],[\"08:52:21\", \"09:25:21\"],\n",
        "    [\"06:56:26\", \"07:49:26\"],[\"12:08:05\", \"12:43:05\"],\n",
        "    [\"01:48:38\", \"07:18:38\"],[\"08:51:21\", \"10:17:21\"],\n",
        "    [\"17:05:17\", \"18:09:17\"],[\"18:51:21\", \"00:17:21\"],\n",
        "    [\"17:05:17\", \"11:09:17\"],]"
      ],
      "metadata": {
        "id": "CYcYQJ45d8Wx"
      },
      "execution_count": null,
      "outputs": []
    },
    {
      "cell_type": "code",
      "source": [
        "for time1,time2 in time_list:\n",
        "\n",
        "    if time_to_second(time1) < time_to_second(time2): #ถ้า time1 น้อยกว่า time2\n",
        "        diff_seconds = time_to_second(time2) - time_to_second(time1)\n",
        "    else: #ถ้า time1 ไม่น้อยกว่า time2\n",
        "        diff_seconds = (time_to_second(time2)+(24*60*60)) - time_to_second(time1)\n",
        "\n",
        "    print(f\"Time difference between {time1} - {time2} is {diff_seconds} seconds\")"
      ],
      "metadata": {
        "colab": {
          "base_uri": "https://localhost:8080/"
        },
        "id": "sv-1il2_dmvv",
        "outputId": "50f45721-6ca1-4fc0-f786-ec748affb410"
      },
      "execution_count": null,
      "outputs": [
        {
          "output_type": "stream",
          "name": "stdout",
          "text": [
            "Time difference between 18:09:10 - 18:25:10 is 960 seconds\n",
            "Time difference between 13:38:39 - 23:54:39 is 36960 seconds\n",
            "Time difference between 16:49:58 - 18:05:58 is 4560 seconds\n",
            "Time difference between 21:49:10 - 22:24:10 is 2100 seconds\n",
            "Time difference between 08:52:21 - 09:25:21 is 1980 seconds\n",
            "Time difference between 06:56:26 - 07:49:26 is 3180 seconds\n",
            "Time difference between 12:08:05 - 12:43:05 is 2100 seconds\n",
            "Time difference between 01:48:38 - 07:18:38 is 19800 seconds\n",
            "Time difference between 08:51:21 - 10:17:21 is 5160 seconds\n",
            "Time difference between 17:05:17 - 18:09:17 is 3840 seconds\n",
            "Time difference between 18:51:21 - 00:17:21 is 19560 seconds\n",
            "Time difference between 17:05:17 - 11:09:17 is 65040 seconds\n"
          ]
        }
      ]
    },
    {
      "cell_type": "markdown",
      "source": [
        "# HW3 เพิ่ม ฟังก์ชั่นแปลงวินาทีกลับมาเป็น ชั่วโมง นาที วินาที โดยไม่ใช่ฟังก์ชั่นช่วยเหลืออื่นๆของ python (~~import~~) ถ้าส่วนของ ชั่วโมง นาที วินาที เป็นศูนย์ ไม่ต้องแสดง"
      ],
      "metadata": {
        "id": "JMvgwO7tgxSZ"
      }
    },
    {
      "cell_type": "markdown",
      "metadata": {
        "id": "sSySEFHNbPql"
      },
      "source": [
        "# HW 4\n",
        "#### เขียน function ตัดเกรด โดยที่ input เป็นคะแนน(0-100) , output เป็นเกรด (F-A)\n",
        "#### วนลูปตัดเกรด input = [1,50,65,90,101,-5,49]"
      ]
    },
    {
      "cell_type": "markdown",
      "metadata": {
        "id": "c3TDhZHzbPqm"
      },
      "source": [
        "##### กำหนด\n",
        "      ถ้าคะแนนอยู่ระหว่างมากกว่าหรือเท่ากับ  0  แต่น้อยกว่า 50 จะได้เกรด F\n",
        "      ถ้าคะแนนอยู่ระหว่างมากกว่าหรือเท่ากับ 50 แต่น้อยกว่า 55 จะได้เกรด D\n",
        "      ถ้าคะแนนอยู่ระหว่างมากกว่าหรือเท่ากับ 55 แต่น้อยกว่า 60 จะได้เกรด D+\n",
        "      ถ้าคะแนนอยู่ระหว่างมากกว่าหรือเท่ากับ 60 แต่น้อยกว่า 65 จะได้เกรด C\n",
        "      ถ้าคะแนนอยู่ระหว่างมากกว่าหรือเท่ากับ 65 แต่น้อยกว่า 70 จะได้เกรด C+\n",
        "      ถ้าคะแนนอยู่ระหว่างมากกว่าหรือเท่ากับ 70 แต่น้อยกว่า 75 จะได้เกรด B\n",
        "      ถ้าคะแนนอยู่ระหว่างมากกว่าหรือเท่ากับ 75 แต่น้อยกว่า 80 จะได้เกรด B+\n",
        "      ถ้าคะแนนอยู่ระหว่างมากกว่าหรือเท่ากับ 80  จะได้เกรด A\n",
        "      แต่ว่าค่าคะแนนจะต้องไม่ต่ำกว่า 0 และมากกว่า 100 ไม่งั้นจะเกิด error"
      ]
    },
    {
      "cell_type": "markdown",
      "source": [
        "## ```&```, ```|```, ```in```, ```is```   :  Operator อื่นๆ"
      ],
      "metadata": {
        "id": "HSMQXdmmipMp"
      }
    },
    {
      "cell_type": "code",
      "source": [
        "if (1>0) & (0>-1):\n",
        "    print(True & True)"
      ],
      "metadata": {
        "id": "ES5d1z0ti306",
        "outputId": "4bc178b2-a5d8-4476-e02c-c87ddd5b91ce",
        "colab": {
          "base_uri": "https://localhost:8080/"
        }
      },
      "execution_count": null,
      "outputs": [
        {
          "output_type": "stream",
          "name": "stdout",
          "text": [
            "True\n"
          ]
        }
      ]
    },
    {
      "cell_type": "code",
      "source": [
        "if 'T' in 'Thanapong':\n",
        "    print('T in Thanapong')"
      ],
      "metadata": {
        "id": "3COnyOTKipAc",
        "outputId": "d50e2919-9cbc-41fb-d20f-6e5a371ebba1",
        "colab": {
          "base_uri": "https://localhost:8080/"
        }
      },
      "execution_count": null,
      "outputs": [
        {
          "output_type": "stream",
          "name": "stdout",
          "text": [
            "T in Thanapong\n"
          ]
        }
      ]
    },
    {
      "cell_type": "code",
      "source": [
        "def return_nothing(x):\n",
        "    x = x+1"
      ],
      "metadata": {
        "id": "01N3TOG9k3ti"
      },
      "execution_count": null,
      "outputs": []
    },
    {
      "cell_type": "code",
      "source": [
        "a = return_nothing(5)"
      ],
      "metadata": {
        "id": "drWbuBwNldOL"
      },
      "execution_count": null,
      "outputs": []
    },
    {
      "cell_type": "code",
      "source": [
        "if a is None:\n",
        "    print('x is null')"
      ],
      "metadata": {
        "id": "pOj0pkEEkbuW",
        "outputId": "29d5bf18-d242-40f3-a542-26c39aa2fcca",
        "colab": {
          "base_uri": "https://localhost:8080/"
        }
      },
      "execution_count": null,
      "outputs": [
        {
          "output_type": "stream",
          "name": "stdout",
          "text": [
            "x is null\n"
          ]
        }
      ]
    },
    {
      "cell_type": "code",
      "source": [],
      "metadata": {
        "id": "y1ET-H8ylyxP"
      },
      "execution_count": null,
      "outputs": []
    },
    {
      "cell_type": "markdown",
      "metadata": {
        "id": "Bg3vVE3GbPqn"
      },
      "source": [
        "# Finish"
      ]
    }
  ]
}